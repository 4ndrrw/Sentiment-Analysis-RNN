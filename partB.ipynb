{
 "cells": [
  {
   "cell_type": "markdown",
   "id": "dd875d5b",
   "metadata": {},
   "source": [
    "## Import Libraries"
   ]
  },
  {
   "cell_type": "code",
   "execution_count": 1,
   "id": "9e9587b4",
   "metadata": {},
   "outputs": [],
   "source": [
    "# Suppress warnings\n",
    "import warnings\n",
    "\n",
    "warnings.filterwarnings(\"ignore\")\n",
    "\n",
    "# Data manipulation and visualization\n",
    "import pandas as pd\n",
    "import numpy as np\n",
    "import matplotlib.pyplot as plt\n",
    "import seaborn as sns\n",
    "from collections import Counter\n",
    "\n",
    "# Scikit-learn tools\n",
    "from sklearn.model_selection import train_test_split\n",
    "from sklearn.utils.class_weight import compute_class_weight\n",
    "from sklearn.metrics import (\n",
    "    confusion_matrix,\n",
    "    classification_report,\n",
    "    mean_squared_error,\n",
    "    mean_absolute_error,\n",
    "    r2_score,\n",
    ")\n",
    "\n",
    "# TensorFlow / Keras core\n",
    "import tensorflow as tf\n",
    "from tensorflow.keras.models import Sequential\n",
    "from tensorflow.keras.layers import (\n",
    "    Embedding,\n",
    "    Dense,\n",
    "    Dropout,\n",
    "    LSTM,\n",
    "    GRU,\n",
    "    Bidirectional,\n",
    ")\n",
    "from tensorflow.keras.optimizers import Adam\n",
    "from tensorflow.keras.preprocessing.text import Tokenizer\n",
    "from tensorflow.keras.preprocessing.sequence import pad_sequences\n",
    "from tensorflow.keras.utils import to_categorical\n",
    "from tensorflow.keras.regularizers import l2\n",
    "from tensorflow.keras import regularizers\n",
    "from tensorflow.keras.callbacks import (\n",
    "    EarlyStopping,\n",
    "    ReduceLROnPlateau,\n",
    "    ModelCheckpoint,\n",
    ")\n",
    "\n",
    "# Keras Tuner\n",
    "from keras_tuner.tuners import RandomSearch"
   ]
  },
  {
   "cell_type": "markdown",
   "id": "f6f4274c",
   "metadata": {},
   "source": [
    "## Data Preprocessing (General)"
   ]
  },
  {
   "cell_type": "code",
   "execution_count": 2,
   "id": "08b1b13b",
   "metadata": {},
   "outputs": [
    {
     "data": {
      "application/vnd.microsoft.datawrangler.viewer.v0+json": {
       "columns": [
        {
         "name": "index",
         "rawType": "int64",
         "type": "integer"
        },
        {
         "name": "Review",
         "rawType": "object",
         "type": "string"
        },
        {
         "name": "Score",
         "rawType": "float64",
         "type": "float"
        },
        {
         "name": "Are there ways for you to generate more data? Spliting up sentences, would that help?",
         "rawType": "float64",
         "type": "float"
        },
        {
         "name": "Language",
         "rawType": "object",
         "type": "string"
        }
       ],
       "ref": "476f5c55-47d3-41c7-8838-a07f90046261",
       "rows": [
        [
         "0",
         "Filem ini hebat! Aksi yang mendebarkan dan plot yang mengejutkan.",
         "0.1",
         null,
         "Malay"
        ],
        [
         "1",
         "Filem ini hebat! Aksi yang mendebarkan dan plot yang mengejutkan.",
         "0.9",
         null,
         "Malay"
        ],
        [
         "2",
         "Filem ini hebat! Aksi yang mendebarkan dan plot yang mengejutkan.",
         "0.5",
         null,
         "Malay"
        ],
        [
         "3",
         "Sayang sekali, pelakon tidak memberikan persembahan terbaik. Kurang puas hati.",
         "0.8",
         null,
         "Malay"
        ],
        [
         "4",
         "Jalan cerita yang kompleks dan penuh emosi. Sungguh menghiburkan!",
         "0.2",
         null,
         "Malay"
        ],
        [
         "5",
         "Pembuat filem berjaya memberikan pengalaman yang tidak terlupakan. Sungguh memukau!",
         "0.05",
         null,
         "Malay"
        ],
        [
         "6",
         "Adegan aksi yang terlalu banyak dan mengejutkan. Terkadang agak terlalu banyak.",
         "0.4",
         null,
         "Malay"
        ],
        [
         "7",
         "Saya teruja sepanjang filem. Penceritaan yang menarik!",
         "0.15",
         null,
         "Malay"
        ],
        [
         "8",
         "Avengers: Endgame mengecewakan dan membosankan. Terlalu banyak klise.",
         "0.85",
         null,
         "Malay"
        ],
        [
         "9",
         "Integrasi elemen fiksyen sains sangat menarik. Saya suka!",
         "0.25",
         null,
         "Malay"
        ],
        [
         "10",
         "Filem ini mengujakan dengan nuansa emosi yang mendalam.",
         "0.12",
         null,
         "Malay"
        ],
        [
         "11",
         "Secara keseluruhan, pengalaman sinematik yang luar biasa. Saya kagum!",
         "0.08",
         null,
         "Malay"
        ],
        [
         "12",
         "Saya kira filem ini tidak sehebat yang diperkatakan. Rasa kurang puas hati.",
         "0.7",
         null,
         "Malay"
        ],
        [
         "13",
         "Aksi yang menakjubkan dan plot yang penuh kejutan. Saya kagum!",
         "0.12",
         null,
         "Malay"
        ],
        [
         "14",
         "Kualiti visual filem ini sungguh mengagumkan. Saya teruja!",
         "0.15",
         null,
         "Malay"
        ],
        [
         "15",
         "Saya kurang suka cara pelakon utama menyampaikan dialog. Kurang menyakinkan.",
         "0.75",
         null,
         "Malay"
        ],
        [
         "16",
         "Jalan cerita yang rumit tetapi sangat menarik. Saya suka!",
         "0.2",
         null,
         "Malay"
        ],
        [
         "17",
         "Adegan aksi yang terlalu dramatik dan berlebihan. Tidak realistik.",
         "0.6",
         null,
         "Malay"
        ],
        [
         "18",
         "Filem ini benar-benar membuat saya terbawa suasana. Saya kagum dengan keseluruhan produksi.",
         "0.1",
         null,
         "Malay"
        ],
        [
         "19",
         "Pelakon memberikan persembahan yang hebat. Saya suka cerita ini!",
         "0.15",
         null,
         "Malay"
        ],
        [
         "20",
         "Saya tidak faham dengan plot filem ini. Terlalu kompleks.",
         "0.7",
         null,
         "Malay"
        ],
        [
         "21",
         "Kejutan besar dalam plot! Aksi yang memukau sepanjang filem.",
         "0.1",
         null,
         "Malay"
        ],
        [
         "22",
         "Visual effects hebat tetapi plot kurang menarik. Saya rasa bosan.",
         "0.6",
         null,
         "Malay"
        ],
        [
         "23",
         "Saya tidak suka bagaimana filem ini berakhir. Tidak memuaskan.",
         "0.8",
         null,
         "Malay"
        ],
        [
         "24",
         "Filem ini membuat saya gelak dan menangis. Suka dengan perasaan yang disampaikan.",
         "0.15",
         null,
         "Malay"
        ],
        [
         "25",
         "Pelakon tidak berjaya membawa watak dengan baik. Kurang kredibel.",
         "0.7",
         null,
         "Malay"
        ],
        [
         "26",
         "Keseluruhan, filem ini hebat! Saya akan menontonnya lagi.",
         "0.08",
         null,
         "Malay"
        ],
        [
         "27",
         "Adegan aksi yang luar biasa. Saya rasa teruja sepanjang masa.",
         "0.12",
         null,
         "Malay"
        ],
        [
         "28",
         "Sayang sekali, plot filem ini terlalu terbuka. Tidak ada penyelesaian yang memuaskan.",
         "0.7",
         null,
         "Malay"
        ],
        [
         "29",
         "Saya suka cara filem ini menggabungkan komedi dengan aksi. Sangat menghiburkan.",
         "0.15",
         null,
         "Malay"
        ],
        [
         "30",
         "Kualiti visual dan efek khas filem ini luar biasa. Saya terkesan!",
         "0.1",
         null,
         "Malay"
        ],
        [
         "31",
         "Pelakon memberikan persembahan yang sangat baik. Saya suka jalan ceritanya.",
         "0.15",
         null,
         "Malay"
        ],
        [
         "32",
         "Filem ini sangat mengecewakan. Tidak sepadan dengan hype.",
         "0.8",
         null,
         "Malay"
        ],
        [
         "33",
         "Plot yang rumit tetapi menarik. Adegan akhir yang epik!",
         "0.1",
         null,
         "Malay"
        ],
        [
         "34",
         "Adegan aksi yang terlalu berlebihan. Terlalu banyak efek khas.",
         "0.6",
         null,
         "Malay"
        ],
        [
         "35",
         "Saya tidak faham dengan twist dalam plot. Sedikit keliru.",
         "0.7",
         null,
         "Malay"
        ],
        [
         "36",
         "Filem ini benar-benar menggetarkan perasaan. Saya suka sekali!",
         "0.12",
         null,
         "Malay"
        ],
        [
         "37",
         "Visual effects filem ini luar biasa. Teruja dengan kehebatan teknikal.",
         "0.1",
         null,
         "Malay"
        ],
        [
         "38",
         "Kurangnya pengembangan watak membuatkan filem ini lemah. Tidak memuaskan.",
         "0.75",
         null,
         "Malay"
        ],
        [
         "39",
         "Saya teruja dengan cara filem ini menggabungkan elemen fiksyen sains.",
         "0.2",
         null,
         "Malay"
        ],
        [
         "40",
         "Plot yang menarik dan penuh kejutan. Saya suka twist dalam cerita.",
         "0.15",
         null,
         "Malay"
        ],
        [
         "41",
         "Filem ini mempunyai kekuatan emosional yang besar. Menyentuh hati!",
         "0.12",
         null,
         "Malay"
        ],
        [
         "42",
         "Pelakon memberikan persembahan yang tidak memuaskan. Tidak kredibel.",
         "0.75",
         null,
         "Malay"
        ],
        [
         "43",
         "Jalan cerita yang agak biasa tetapi dihidupkan dengan aksi yang hebat.",
         "0.25",
         null,
         "Malay"
        ],
        [
         "44",
         "Adegan akhir yang sangat epik! Saya teruja dengan penutupan trilogi ini.",
         "0.08",
         null,
         "Malay"
        ],
        [
         "45",
         "Filem ini hebat! Saya suka dengan pengembangan watak.",
         "0.1",
         null,
         "Malay"
        ],
        [
         "46",
         "Saya tidak suka dengan jalan cerita yang terlalu kompleks. Tidak dapat diikuti.",
         "0.7",
         null,
         "Malay"
        ],
        [
         "47",
         "Sangat gembira dengan filem ini. Aksi yang mengagumkan!",
         "0.12",
         null,
         "Malay"
        ],
        [
         "48",
         "Plot yang rumit tetapi sangat menarik. Kejutan besar di penghujung!",
         "0.08",
         null,
         "Malay"
        ],
        [
         "49",
         "Visual effects filem ini benar-benar luar biasa. Saya terkesan!",
         "0.1",
         null,
         "Malay"
        ]
       ],
       "shape": {
        "columns": 4,
        "rows": 527
       }
      },
      "text/html": [
       "<div>\n",
       "<style scoped>\n",
       "    .dataframe tbody tr th:only-of-type {\n",
       "        vertical-align: middle;\n",
       "    }\n",
       "\n",
       "    .dataframe tbody tr th {\n",
       "        vertical-align: top;\n",
       "    }\n",
       "\n",
       "    .dataframe thead th {\n",
       "        text-align: right;\n",
       "    }\n",
       "</style>\n",
       "<table border=\"1\" class=\"dataframe\">\n",
       "  <thead>\n",
       "    <tr style=\"text-align: right;\">\n",
       "      <th></th>\n",
       "      <th>Review</th>\n",
       "      <th>Score</th>\n",
       "      <th>Are there ways for you to generate more data? Spliting up sentences, would that help?</th>\n",
       "      <th>Language</th>\n",
       "    </tr>\n",
       "  </thead>\n",
       "  <tbody>\n",
       "    <tr>\n",
       "      <th>0</th>\n",
       "      <td>Filem ini hebat! Aksi yang mendebarkan dan plo...</td>\n",
       "      <td>0.1</td>\n",
       "      <td>NaN</td>\n",
       "      <td>Malay</td>\n",
       "    </tr>\n",
       "    <tr>\n",
       "      <th>1</th>\n",
       "      <td>Filem ini hebat! Aksi yang mendebarkan dan plo...</td>\n",
       "      <td>0.9</td>\n",
       "      <td>NaN</td>\n",
       "      <td>Malay</td>\n",
       "    </tr>\n",
       "    <tr>\n",
       "      <th>2</th>\n",
       "      <td>Filem ini hebat! Aksi yang mendebarkan dan plo...</td>\n",
       "      <td>0.5</td>\n",
       "      <td>NaN</td>\n",
       "      <td>Malay</td>\n",
       "    </tr>\n",
       "    <tr>\n",
       "      <th>3</th>\n",
       "      <td>Sayang sekali, pelakon tidak memberikan persem...</td>\n",
       "      <td>0.8</td>\n",
       "      <td>NaN</td>\n",
       "      <td>Malay</td>\n",
       "    </tr>\n",
       "    <tr>\n",
       "      <th>4</th>\n",
       "      <td>Jalan cerita yang kompleks dan penuh emosi. Su...</td>\n",
       "      <td>0.2</td>\n",
       "      <td>NaN</td>\n",
       "      <td>Malay</td>\n",
       "    </tr>\n",
       "    <tr>\n",
       "      <th>...</th>\n",
       "      <td>...</td>\n",
       "      <td>...</td>\n",
       "      <td>...</td>\n",
       "      <td>...</td>\n",
       "    </tr>\n",
       "    <tr>\n",
       "      <th>522</th>\n",
       "      <td>Pening</td>\n",
       "      <td>0.7</td>\n",
       "      <td>NaN</td>\n",
       "      <td>Malay</td>\n",
       "    </tr>\n",
       "    <tr>\n",
       "      <th>523</th>\n",
       "      <td>Berkesan</td>\n",
       "      <td>0.2</td>\n",
       "      <td>NaN</td>\n",
       "      <td>Malay</td>\n",
       "    </tr>\n",
       "    <tr>\n",
       "      <th>524</th>\n",
       "      <td>Mengujakan</td>\n",
       "      <td>0.1</td>\n",
       "      <td>NaN</td>\n",
       "      <td>Malay</td>\n",
       "    </tr>\n",
       "    <tr>\n",
       "      <th>525</th>\n",
       "      <td>Sederhana and teruk</td>\n",
       "      <td>0.6</td>\n",
       "      <td>NaN</td>\n",
       "      <td>Malay</td>\n",
       "    </tr>\n",
       "    <tr>\n",
       "      <th>526</th>\n",
       "      <td>Sempurna</td>\n",
       "      <td>0.1</td>\n",
       "      <td>NaN</td>\n",
       "      <td>Malay</td>\n",
       "    </tr>\n",
       "  </tbody>\n",
       "</table>\n",
       "<p>527 rows × 4 columns</p>\n",
       "</div>"
      ],
      "text/plain": [
       "                                                Review  Score  \\\n",
       "0    Filem ini hebat! Aksi yang mendebarkan dan plo...    0.1   \n",
       "1    Filem ini hebat! Aksi yang mendebarkan dan plo...    0.9   \n",
       "2    Filem ini hebat! Aksi yang mendebarkan dan plo...    0.5   \n",
       "3    Sayang sekali, pelakon tidak memberikan persem...    0.8   \n",
       "4    Jalan cerita yang kompleks dan penuh emosi. Su...    0.2   \n",
       "..                                                 ...    ...   \n",
       "522                                             Pening    0.7   \n",
       "523                                           Berkesan    0.2   \n",
       "524                                         Mengujakan    0.1   \n",
       "525                                Sederhana and teruk    0.6   \n",
       "526                                           Sempurna    0.1   \n",
       "\n",
       "     Are there ways for you to generate more data? Spliting up sentences, would that help?  \\\n",
       "0                                                  NaN                                       \n",
       "1                                                  NaN                                       \n",
       "2                                                  NaN                                       \n",
       "3                                                  NaN                                       \n",
       "4                                                  NaN                                       \n",
       "..                                                 ...                                       \n",
       "522                                                NaN                                       \n",
       "523                                                NaN                                       \n",
       "524                                                NaN                                       \n",
       "525                                                NaN                                       \n",
       "526                                                NaN                                       \n",
       "\n",
       "    Language  \n",
       "0      Malay  \n",
       "1      Malay  \n",
       "2      Malay  \n",
       "3      Malay  \n",
       "4      Malay  \n",
       "..       ...  \n",
       "522    Malay  \n",
       "523    Malay  \n",
       "524    Malay  \n",
       "525    Malay  \n",
       "526    Malay  \n",
       "\n",
       "[527 rows x 4 columns]"
      ]
     },
     "execution_count": 2,
     "metadata": {},
     "output_type": "execute_result"
    }
   ],
   "source": [
    "# Load data\n",
    "df = pd.read_csv(\"../Movie reviews.csv\")\n",
    "\n",
    "# Display the data\n",
    "df"
   ]
  },
  {
   "cell_type": "code",
   "execution_count": 3,
   "id": "6e95b629",
   "metadata": {},
   "outputs": [
    {
     "data": {
      "application/vnd.microsoft.datawrangler.viewer.v0+json": {
       "columns": [
        {
         "name": "index",
         "rawType": "int64",
         "type": "integer"
        },
        {
         "name": "Review",
         "rawType": "object",
         "type": "string"
        },
        {
         "name": "Score",
         "rawType": "float64",
         "type": "float"
        },
        {
         "name": "Language",
         "rawType": "object",
         "type": "string"
        }
       ],
       "ref": "181fbff8-35b6-4085-9c2e-966457c5f4e4",
       "rows": [
        [
         "0",
         "Filem ini hebat! Aksi yang mendebarkan dan plot yang mengejutkan.",
         "0.1",
         "Malay"
        ],
        [
         "1",
         "Filem ini hebat! Aksi yang mendebarkan dan plot yang mengejutkan.",
         "0.9",
         "Malay"
        ],
        [
         "2",
         "Filem ini hebat! Aksi yang mendebarkan dan plot yang mengejutkan.",
         "0.5",
         "Malay"
        ],
        [
         "3",
         "Sayang sekali, pelakon tidak memberikan persembahan terbaik. Kurang puas hati.",
         "0.8",
         "Malay"
        ],
        [
         "4",
         "Jalan cerita yang kompleks dan penuh emosi. Sungguh menghiburkan!",
         "0.2",
         "Malay"
        ],
        [
         "5",
         "Pembuat filem berjaya memberikan pengalaman yang tidak terlupakan. Sungguh memukau!",
         "0.05",
         "Malay"
        ],
        [
         "6",
         "Adegan aksi yang terlalu banyak dan mengejutkan. Terkadang agak terlalu banyak.",
         "0.4",
         "Malay"
        ],
        [
         "7",
         "Saya teruja sepanjang filem. Penceritaan yang menarik!",
         "0.15",
         "Malay"
        ],
        [
         "8",
         "Avengers: Endgame mengecewakan dan membosankan. Terlalu banyak klise.",
         "0.85",
         "Malay"
        ],
        [
         "9",
         "Integrasi elemen fiksyen sains sangat menarik. Saya suka!",
         "0.25",
         "Malay"
        ],
        [
         "10",
         "Filem ini mengujakan dengan nuansa emosi yang mendalam.",
         "0.12",
         "Malay"
        ],
        [
         "11",
         "Secara keseluruhan, pengalaman sinematik yang luar biasa. Saya kagum!",
         "0.08",
         "Malay"
        ],
        [
         "12",
         "Saya kira filem ini tidak sehebat yang diperkatakan. Rasa kurang puas hati.",
         "0.7",
         "Malay"
        ],
        [
         "13",
         "Aksi yang menakjubkan dan plot yang penuh kejutan. Saya kagum!",
         "0.12",
         "Malay"
        ],
        [
         "14",
         "Kualiti visual filem ini sungguh mengagumkan. Saya teruja!",
         "0.15",
         "Malay"
        ],
        [
         "15",
         "Saya kurang suka cara pelakon utama menyampaikan dialog. Kurang menyakinkan.",
         "0.75",
         "Malay"
        ],
        [
         "16",
         "Jalan cerita yang rumit tetapi sangat menarik. Saya suka!",
         "0.2",
         "Malay"
        ],
        [
         "17",
         "Adegan aksi yang terlalu dramatik dan berlebihan. Tidak realistik.",
         "0.6",
         "Malay"
        ],
        [
         "18",
         "Filem ini benar-benar membuat saya terbawa suasana. Saya kagum dengan keseluruhan produksi.",
         "0.1",
         "Malay"
        ],
        [
         "19",
         "Pelakon memberikan persembahan yang hebat. Saya suka cerita ini!",
         "0.15",
         "Malay"
        ],
        [
         "20",
         "Saya tidak faham dengan plot filem ini. Terlalu kompleks.",
         "0.7",
         "Malay"
        ],
        [
         "21",
         "Kejutan besar dalam plot! Aksi yang memukau sepanjang filem.",
         "0.1",
         "Malay"
        ],
        [
         "22",
         "Visual effects hebat tetapi plot kurang menarik. Saya rasa bosan.",
         "0.6",
         "Malay"
        ],
        [
         "23",
         "Saya tidak suka bagaimana filem ini berakhir. Tidak memuaskan.",
         "0.8",
         "Malay"
        ],
        [
         "24",
         "Filem ini membuat saya gelak dan menangis. Suka dengan perasaan yang disampaikan.",
         "0.15",
         "Malay"
        ],
        [
         "25",
         "Pelakon tidak berjaya membawa watak dengan baik. Kurang kredibel.",
         "0.7",
         "Malay"
        ],
        [
         "26",
         "Keseluruhan, filem ini hebat! Saya akan menontonnya lagi.",
         "0.08",
         "Malay"
        ],
        [
         "27",
         "Adegan aksi yang luar biasa. Saya rasa teruja sepanjang masa.",
         "0.12",
         "Malay"
        ],
        [
         "28",
         "Sayang sekali, plot filem ini terlalu terbuka. Tidak ada penyelesaian yang memuaskan.",
         "0.7",
         "Malay"
        ],
        [
         "29",
         "Saya suka cara filem ini menggabungkan komedi dengan aksi. Sangat menghiburkan.",
         "0.15",
         "Malay"
        ],
        [
         "30",
         "Kualiti visual dan efek khas filem ini luar biasa. Saya terkesan!",
         "0.1",
         "Malay"
        ],
        [
         "31",
         "Pelakon memberikan persembahan yang sangat baik. Saya suka jalan ceritanya.",
         "0.15",
         "Malay"
        ],
        [
         "32",
         "Filem ini sangat mengecewakan. Tidak sepadan dengan hype.",
         "0.8",
         "Malay"
        ],
        [
         "33",
         "Plot yang rumit tetapi menarik. Adegan akhir yang epik!",
         "0.1",
         "Malay"
        ],
        [
         "34",
         "Adegan aksi yang terlalu berlebihan. Terlalu banyak efek khas.",
         "0.6",
         "Malay"
        ],
        [
         "35",
         "Saya tidak faham dengan twist dalam plot. Sedikit keliru.",
         "0.7",
         "Malay"
        ],
        [
         "36",
         "Filem ini benar-benar menggetarkan perasaan. Saya suka sekali!",
         "0.12",
         "Malay"
        ],
        [
         "37",
         "Visual effects filem ini luar biasa. Teruja dengan kehebatan teknikal.",
         "0.1",
         "Malay"
        ],
        [
         "38",
         "Kurangnya pengembangan watak membuatkan filem ini lemah. Tidak memuaskan.",
         "0.75",
         "Malay"
        ],
        [
         "39",
         "Saya teruja dengan cara filem ini menggabungkan elemen fiksyen sains.",
         "0.2",
         "Malay"
        ],
        [
         "40",
         "Plot yang menarik dan penuh kejutan. Saya suka twist dalam cerita.",
         "0.15",
         "Malay"
        ],
        [
         "41",
         "Filem ini mempunyai kekuatan emosional yang besar. Menyentuh hati!",
         "0.12",
         "Malay"
        ],
        [
         "42",
         "Pelakon memberikan persembahan yang tidak memuaskan. Tidak kredibel.",
         "0.75",
         "Malay"
        ],
        [
         "43",
         "Jalan cerita yang agak biasa tetapi dihidupkan dengan aksi yang hebat.",
         "0.25",
         "Malay"
        ],
        [
         "44",
         "Adegan akhir yang sangat epik! Saya teruja dengan penutupan trilogi ini.",
         "0.08",
         "Malay"
        ],
        [
         "45",
         "Filem ini hebat! Saya suka dengan pengembangan watak.",
         "0.1",
         "Malay"
        ],
        [
         "46",
         "Saya tidak suka dengan jalan cerita yang terlalu kompleks. Tidak dapat diikuti.",
         "0.7",
         "Malay"
        ],
        [
         "47",
         "Sangat gembira dengan filem ini. Aksi yang mengagumkan!",
         "0.12",
         "Malay"
        ],
        [
         "48",
         "Plot yang rumit tetapi sangat menarik. Kejutan besar di penghujung!",
         "0.08",
         "Malay"
        ],
        [
         "49",
         "Visual effects filem ini benar-benar luar biasa. Saya terkesan!",
         "0.1",
         "Malay"
        ]
       ],
       "shape": {
        "columns": 3,
        "rows": 414
       }
      },
      "text/html": [
       "<div>\n",
       "<style scoped>\n",
       "    .dataframe tbody tr th:only-of-type {\n",
       "        vertical-align: middle;\n",
       "    }\n",
       "\n",
       "    .dataframe tbody tr th {\n",
       "        vertical-align: top;\n",
       "    }\n",
       "\n",
       "    .dataframe thead th {\n",
       "        text-align: right;\n",
       "    }\n",
       "</style>\n",
       "<table border=\"1\" class=\"dataframe\">\n",
       "  <thead>\n",
       "    <tr style=\"text-align: right;\">\n",
       "      <th></th>\n",
       "      <th>Review</th>\n",
       "      <th>Score</th>\n",
       "      <th>Language</th>\n",
       "    </tr>\n",
       "  </thead>\n",
       "  <tbody>\n",
       "    <tr>\n",
       "      <th>0</th>\n",
       "      <td>Filem ini hebat! Aksi yang mendebarkan dan plo...</td>\n",
       "      <td>0.1</td>\n",
       "      <td>Malay</td>\n",
       "    </tr>\n",
       "    <tr>\n",
       "      <th>1</th>\n",
       "      <td>Filem ini hebat! Aksi yang mendebarkan dan plo...</td>\n",
       "      <td>0.9</td>\n",
       "      <td>Malay</td>\n",
       "    </tr>\n",
       "    <tr>\n",
       "      <th>2</th>\n",
       "      <td>Filem ini hebat! Aksi yang mendebarkan dan plo...</td>\n",
       "      <td>0.5</td>\n",
       "      <td>Malay</td>\n",
       "    </tr>\n",
       "    <tr>\n",
       "      <th>3</th>\n",
       "      <td>Sayang sekali, pelakon tidak memberikan persem...</td>\n",
       "      <td>0.8</td>\n",
       "      <td>Malay</td>\n",
       "    </tr>\n",
       "    <tr>\n",
       "      <th>4</th>\n",
       "      <td>Jalan cerita yang kompleks dan penuh emosi. Su...</td>\n",
       "      <td>0.2</td>\n",
       "      <td>Malay</td>\n",
       "    </tr>\n",
       "    <tr>\n",
       "      <th>...</th>\n",
       "      <td>...</td>\n",
       "      <td>...</td>\n",
       "      <td>...</td>\n",
       "    </tr>\n",
       "    <tr>\n",
       "      <th>522</th>\n",
       "      <td>Pening</td>\n",
       "      <td>0.7</td>\n",
       "      <td>Malay</td>\n",
       "    </tr>\n",
       "    <tr>\n",
       "      <th>523</th>\n",
       "      <td>Berkesan</td>\n",
       "      <td>0.2</td>\n",
       "      <td>Malay</td>\n",
       "    </tr>\n",
       "    <tr>\n",
       "      <th>524</th>\n",
       "      <td>Mengujakan</td>\n",
       "      <td>0.1</td>\n",
       "      <td>Malay</td>\n",
       "    </tr>\n",
       "    <tr>\n",
       "      <th>525</th>\n",
       "      <td>Sederhana and teruk</td>\n",
       "      <td>0.6</td>\n",
       "      <td>Malay</td>\n",
       "    </tr>\n",
       "    <tr>\n",
       "      <th>526</th>\n",
       "      <td>Sempurna</td>\n",
       "      <td>0.1</td>\n",
       "      <td>Malay</td>\n",
       "    </tr>\n",
       "  </tbody>\n",
       "</table>\n",
       "<p>414 rows × 3 columns</p>\n",
       "</div>"
      ],
      "text/plain": [
       "                                                Review  Score Language\n",
       "0    Filem ini hebat! Aksi yang mendebarkan dan plo...    0.1    Malay\n",
       "1    Filem ini hebat! Aksi yang mendebarkan dan plo...    0.9    Malay\n",
       "2    Filem ini hebat! Aksi yang mendebarkan dan plo...    0.5    Malay\n",
       "3    Sayang sekali, pelakon tidak memberikan persem...    0.8    Malay\n",
       "4    Jalan cerita yang kompleks dan penuh emosi. Su...    0.2    Malay\n",
       "..                                                 ...    ...      ...\n",
       "522                                             Pening    0.7    Malay\n",
       "523                                           Berkesan    0.2    Malay\n",
       "524                                         Mengujakan    0.1    Malay\n",
       "525                                Sederhana and teruk    0.6    Malay\n",
       "526                                           Sempurna    0.1    Malay\n",
       "\n",
       "[414 rows x 3 columns]"
      ]
     },
     "execution_count": 3,
     "metadata": {},
     "output_type": "execute_result"
    }
   ],
   "source": [
    "# Drop all rows where 'Review' is duplicated with the same 'Score'\n",
    "df = df.drop_duplicates(subset=['Review', 'Score'])\n",
    "\n",
    "# Drop missing values\n",
    "df = df.dropna(subset=['Review', 'Score', 'Language'])\n",
    "\n",
    "# Drop the redundant column\n",
    "df = df.drop(columns=['Are there ways for you to generate more data? Spliting up sentences, would that help?'])\n",
    "\n",
    "# Display the data after dropping duplicates\n",
    "df"
   ]
  },
  {
   "cell_type": "code",
   "execution_count": 4,
   "id": "0fa6ab38",
   "metadata": {},
   "outputs": [
    {
     "data": {
      "application/vnd.microsoft.datawrangler.viewer.v0+json": {
       "columns": [
        {
         "name": "index",
         "rawType": "int64",
         "type": "integer"
        },
        {
         "name": "Review",
         "rawType": "object",
         "type": "string"
        },
        {
         "name": "Score",
         "rawType": "float64",
         "type": "float"
        },
        {
         "name": "Language",
         "rawType": "object",
         "type": "string"
        }
       ],
       "ref": "90cf3049-1769-4f6b-b106-9d6ff1959a0e",
       "rows": [
        [
         "0",
         "Sayang sekali, pelakon tidak memberikan persembahan terbaik. Kurang puas hati.",
         "0.8",
         "Malay"
        ],
        [
         "1",
         "Jalan cerita yang kompleks dan penuh emosi. Sungguh menghiburkan!",
         "0.2",
         "Malay"
        ],
        [
         "2",
         "Pembuat filem berjaya memberikan pengalaman yang tidak terlupakan. Sungguh memukau!",
         "0.05",
         "Malay"
        ],
        [
         "3",
         "Adegan aksi yang terlalu banyak dan mengejutkan. Terkadang agak terlalu banyak.",
         "0.4",
         "Malay"
        ],
        [
         "4",
         "Saya teruja sepanjang filem. Penceritaan yang menarik!",
         "0.15",
         "Malay"
        ],
        [
         "5",
         "Avengers: Endgame mengecewakan dan membosankan. Terlalu banyak klise.",
         "0.85",
         "Malay"
        ],
        [
         "6",
         "Integrasi elemen fiksyen sains sangat menarik. Saya suka!",
         "0.25",
         "Malay"
        ],
        [
         "7",
         "Filem ini mengujakan dengan nuansa emosi yang mendalam.",
         "0.12",
         "Malay"
        ],
        [
         "8",
         "Secara keseluruhan, pengalaman sinematik yang luar biasa. Saya kagum!",
         "0.08",
         "Malay"
        ],
        [
         "9",
         "Saya kira filem ini tidak sehebat yang diperkatakan. Rasa kurang puas hati.",
         "0.7",
         "Malay"
        ],
        [
         "10",
         "Aksi yang menakjubkan dan plot yang penuh kejutan. Saya kagum!",
         "0.12",
         "Malay"
        ],
        [
         "11",
         "Kualiti visual filem ini sungguh mengagumkan. Saya teruja!",
         "0.15",
         "Malay"
        ],
        [
         "12",
         "Saya kurang suka cara pelakon utama menyampaikan dialog. Kurang menyakinkan.",
         "0.75",
         "Malay"
        ],
        [
         "13",
         "Jalan cerita yang rumit tetapi sangat menarik. Saya suka!",
         "0.2",
         "Malay"
        ],
        [
         "14",
         "Adegan aksi yang terlalu dramatik dan berlebihan. Tidak realistik.",
         "0.6",
         "Malay"
        ],
        [
         "15",
         "Filem ini benar-benar membuat saya terbawa suasana. Saya kagum dengan keseluruhan produksi.",
         "0.1",
         "Malay"
        ],
        [
         "16",
         "Pelakon memberikan persembahan yang hebat. Saya suka cerita ini!",
         "0.15",
         "Malay"
        ],
        [
         "17",
         "Saya tidak faham dengan plot filem ini. Terlalu kompleks.",
         "0.7",
         "Malay"
        ],
        [
         "18",
         "Kejutan besar dalam plot! Aksi yang memukau sepanjang filem.",
         "0.1",
         "Malay"
        ],
        [
         "19",
         "Visual effects hebat tetapi plot kurang menarik. Saya rasa bosan.",
         "0.6",
         "Malay"
        ],
        [
         "20",
         "Adegan aksi yang luar biasa. Saya rasa teruja sepanjang masa.",
         "0.12",
         "Malay"
        ],
        [
         "21",
         "Sayang sekali, plot filem ini terlalu terbuka. Tidak ada penyelesaian yang memuaskan.",
         "0.7",
         "Malay"
        ],
        [
         "22",
         "Saya suka cara filem ini menggabungkan komedi dengan aksi. Sangat menghiburkan.",
         "0.15",
         "Malay"
        ],
        [
         "23",
         "Kualiti visual dan efek khas filem ini luar biasa. Saya terkesan!",
         "0.1",
         "Malay"
        ],
        [
         "24",
         "Pelakon memberikan persembahan yang sangat baik. Saya suka jalan ceritanya.",
         "0.15",
         "Malay"
        ],
        [
         "25",
         "Filem ini sangat mengecewakan. Tidak sepadan dengan hype.",
         "0.8",
         "Malay"
        ],
        [
         "26",
         "Plot yang rumit tetapi menarik. Adegan akhir yang epik!",
         "0.1",
         "Malay"
        ],
        [
         "27",
         "Adegan aksi yang terlalu berlebihan. Terlalu banyak efek khas.",
         "0.6",
         "Malay"
        ],
        [
         "28",
         "Saya tidak faham dengan twist dalam plot. Sedikit keliru.",
         "0.7",
         "Malay"
        ],
        [
         "29",
         "Filem ini benar-benar menggetarkan perasaan. Saya suka sekali!",
         "0.12",
         "Malay"
        ],
        [
         "30",
         "Visual effects filem ini luar biasa. Teruja dengan kehebatan teknikal.",
         "0.1",
         "Malay"
        ],
        [
         "31",
         "Kurangnya pengembangan watak membuatkan filem ini lemah. Tidak memuaskan.",
         "0.75",
         "Malay"
        ],
        [
         "32",
         "Saya teruja dengan cara filem ini menggabungkan elemen fiksyen sains.",
         "0.2",
         "Malay"
        ],
        [
         "33",
         "Plot yang menarik dan penuh kejutan. Saya suka twist dalam cerita.",
         "0.15",
         "Malay"
        ],
        [
         "34",
         "Filem ini mempunyai kekuatan emosional yang besar. Menyentuh hati!",
         "0.12",
         "Malay"
        ],
        [
         "35",
         "Pelakon memberikan persembahan yang tidak memuaskan. Tidak kredibel.",
         "0.75",
         "Malay"
        ],
        [
         "36",
         "Jalan cerita yang agak biasa tetapi dihidupkan dengan aksi yang hebat.",
         "0.25",
         "Malay"
        ],
        [
         "37",
         "Adegan akhir yang sangat epik! Saya teruja dengan penutupan trilogi ini.",
         "0.08",
         "Malay"
        ],
        [
         "38",
         "Filem ini hebat! Saya suka dengan pengembangan watak.",
         "0.1",
         "Malay"
        ],
        [
         "39",
         "Saya tidak suka dengan jalan cerita yang terlalu kompleks. Tidak dapat diikuti.",
         "0.7",
         "Malay"
        ],
        [
         "40",
         "Sangat gembira dengan filem ini. Aksi yang mengagumkan!",
         "0.12",
         "Malay"
        ],
        [
         "41",
         "Plot yang rumit tetapi sangat menarik. Kejutan besar di penghujung!",
         "0.08",
         "Malay"
        ],
        [
         "42",
         "Visual effects filem ini benar-benar luar biasa. Saya terkesan!",
         "0.1",
         "Malay"
        ],
        [
         "43",
         "Perasaan yang mendalam dalam filem ini membuatkan saya terharu. Saya suka!",
         "0.12",
         "Malay"
        ],
        [
         "44",
         "Kurangnya ketegangan dalam plot membuatkan saya bosan. Tidak ada elemen kejutan.",
         "0.7",
         "Malay"
        ],
        [
         "45",
         "Filem ini memberikan jawapan kepada banyak pertanyaan. Saya suka twistnya.",
         "0.15",
         "Malay"
        ],
        [
         "46",
         "Kejutan besar di tengah-tengah filem! Aksi yang mendebarkan!",
         "0.12",
         "Malay"
        ],
        [
         "47",
         "Visual effects dan animasi filem ini sungguh mengagumkan. Terkesan!",
         "0.1",
         "Malay"
        ],
        [
         "48",
         "Pelakon memberikan persembahan yang sangat baik. Saya suka dengan penutupan ceritanya.",
         "0.12",
         "Malay"
        ],
        [
         "49",
         "Filem ini tidak sehebat yang saya jangkakan. Terlalu banyak klise.",
         "0.7",
         "Malay"
        ]
       ],
       "shape": {
        "columns": 3,
        "rows": 393
       }
      },
      "text/html": [
       "<div>\n",
       "<style scoped>\n",
       "    .dataframe tbody tr th:only-of-type {\n",
       "        vertical-align: middle;\n",
       "    }\n",
       "\n",
       "    .dataframe tbody tr th {\n",
       "        vertical-align: top;\n",
       "    }\n",
       "\n",
       "    .dataframe thead th {\n",
       "        text-align: right;\n",
       "    }\n",
       "</style>\n",
       "<table border=\"1\" class=\"dataframe\">\n",
       "  <thead>\n",
       "    <tr style=\"text-align: right;\">\n",
       "      <th></th>\n",
       "      <th>Review</th>\n",
       "      <th>Score</th>\n",
       "      <th>Language</th>\n",
       "    </tr>\n",
       "  </thead>\n",
       "  <tbody>\n",
       "    <tr>\n",
       "      <th>0</th>\n",
       "      <td>Sayang sekali, pelakon tidak memberikan persem...</td>\n",
       "      <td>0.80</td>\n",
       "      <td>Malay</td>\n",
       "    </tr>\n",
       "    <tr>\n",
       "      <th>1</th>\n",
       "      <td>Jalan cerita yang kompleks dan penuh emosi. Su...</td>\n",
       "      <td>0.20</td>\n",
       "      <td>Malay</td>\n",
       "    </tr>\n",
       "    <tr>\n",
       "      <th>2</th>\n",
       "      <td>Pembuat filem berjaya memberikan pengalaman ya...</td>\n",
       "      <td>0.05</td>\n",
       "      <td>Malay</td>\n",
       "    </tr>\n",
       "    <tr>\n",
       "      <th>3</th>\n",
       "      <td>Adegan aksi yang terlalu banyak dan mengejutka...</td>\n",
       "      <td>0.40</td>\n",
       "      <td>Malay</td>\n",
       "    </tr>\n",
       "    <tr>\n",
       "      <th>4</th>\n",
       "      <td>Saya teruja sepanjang filem. Penceritaan yang ...</td>\n",
       "      <td>0.15</td>\n",
       "      <td>Malay</td>\n",
       "    </tr>\n",
       "    <tr>\n",
       "      <th>...</th>\n",
       "      <td>...</td>\n",
       "      <td>...</td>\n",
       "      <td>...</td>\n",
       "    </tr>\n",
       "    <tr>\n",
       "      <th>388</th>\n",
       "      <td>Pening</td>\n",
       "      <td>0.70</td>\n",
       "      <td>Malay</td>\n",
       "    </tr>\n",
       "    <tr>\n",
       "      <th>389</th>\n",
       "      <td>Berkesan</td>\n",
       "      <td>0.20</td>\n",
       "      <td>Malay</td>\n",
       "    </tr>\n",
       "    <tr>\n",
       "      <th>390</th>\n",
       "      <td>Mengujakan</td>\n",
       "      <td>0.10</td>\n",
       "      <td>Malay</td>\n",
       "    </tr>\n",
       "    <tr>\n",
       "      <th>391</th>\n",
       "      <td>Sederhana and teruk</td>\n",
       "      <td>0.60</td>\n",
       "      <td>Malay</td>\n",
       "    </tr>\n",
       "    <tr>\n",
       "      <th>392</th>\n",
       "      <td>Sempurna</td>\n",
       "      <td>0.10</td>\n",
       "      <td>Malay</td>\n",
       "    </tr>\n",
       "  </tbody>\n",
       "</table>\n",
       "<p>393 rows × 3 columns</p>\n",
       "</div>"
      ],
      "text/plain": [
       "                                                Review  Score Language\n",
       "0    Sayang sekali, pelakon tidak memberikan persem...   0.80    Malay\n",
       "1    Jalan cerita yang kompleks dan penuh emosi. Su...   0.20    Malay\n",
       "2    Pembuat filem berjaya memberikan pengalaman ya...   0.05    Malay\n",
       "3    Adegan aksi yang terlalu banyak dan mengejutka...   0.40    Malay\n",
       "4    Saya teruja sepanjang filem. Penceritaan yang ...   0.15    Malay\n",
       "..                                                 ...    ...      ...\n",
       "388                                             Pening   0.70    Malay\n",
       "389                                           Berkesan   0.20    Malay\n",
       "390                                         Mengujakan   0.10    Malay\n",
       "391                                Sederhana and teruk   0.60    Malay\n",
       "392                                           Sempurna   0.10    Malay\n",
       "\n",
       "[393 rows x 3 columns]"
      ]
     },
     "execution_count": 4,
     "metadata": {},
     "output_type": "execute_result"
    }
   ],
   "source": [
    "# Drop all rows where 'Review' is duplicated but with different 'Score'\n",
    "dup_reviews = df[df.duplicated('Review', keep=False)]\n",
    "conflicting = dup_reviews.groupby('Review')['Score'].nunique()\n",
    "conflicting_reviews = conflicting[conflicting > 1].index\n",
    "\n",
    "df = df[~df['Review'].isin(conflicting_reviews)]\n",
    "\n",
    "df = df.reset_index(drop=True)\n",
    "\n",
    "# Display the data after dropping conflicting reviews\n",
    "df"
   ]
  },
  {
   "cell_type": "code",
   "execution_count": 5,
   "id": "c2cc9669",
   "metadata": {},
   "outputs": [
    {
     "data": {
      "application/vnd.microsoft.datawrangler.viewer.v0+json": {
       "columns": [
        {
         "name": "index",
         "rawType": "int64",
         "type": "integer"
        },
        {
         "name": "Review",
         "rawType": "object",
         "type": "string"
        },
        {
         "name": "Score",
         "rawType": "float64",
         "type": "float"
        },
        {
         "name": "Language",
         "rawType": "object",
         "type": "string"
        }
       ],
       "ref": "de76b11c-cc04-46a3-a49a-833f0325d0cb",
       "rows": [
        [
         "0",
         "Sayang sekali, pelakon tidak memberikan persembahan terbaik. Kurang puas hati.",
         "0.2",
         "Malay"
        ],
        [
         "1",
         "Jalan cerita yang kompleks dan penuh emosi. Sungguh menghiburkan!",
         "0.8",
         "Malay"
        ],
        [
         "2",
         "Pembuat filem berjaya memberikan pengalaman yang tidak terlupakan. Sungguh memukau!",
         "0.95",
         "Malay"
        ],
        [
         "3",
         "Adegan aksi yang terlalu banyak dan mengejutkan. Terkadang agak terlalu banyak.",
         "0.6",
         "Malay"
        ],
        [
         "4",
         "Saya teruja sepanjang filem. Penceritaan yang menarik!",
         "0.85",
         "Malay"
        ],
        [
         "5",
         "Avengers: Endgame mengecewakan dan membosankan. Terlalu banyak klise.",
         "0.15",
         "Malay"
        ],
        [
         "6",
         "Integrasi elemen fiksyen sains sangat menarik. Saya suka!",
         "0.75",
         "Malay"
        ],
        [
         "7",
         "Filem ini mengujakan dengan nuansa emosi yang mendalam.",
         "0.88",
         "Malay"
        ],
        [
         "8",
         "Secara keseluruhan, pengalaman sinematik yang luar biasa. Saya kagum!",
         "0.92",
         "Malay"
        ],
        [
         "9",
         "Saya kira filem ini tidak sehebat yang diperkatakan. Rasa kurang puas hati.",
         "0.3",
         "Malay"
        ],
        [
         "10",
         "Aksi yang menakjubkan dan plot yang penuh kejutan. Saya kagum!",
         "0.88",
         "Malay"
        ],
        [
         "11",
         "Kualiti visual filem ini sungguh mengagumkan. Saya teruja!",
         "0.85",
         "Malay"
        ],
        [
         "12",
         "Saya kurang suka cara pelakon utama menyampaikan dialog. Kurang menyakinkan.",
         "0.25",
         "Malay"
        ],
        [
         "13",
         "Jalan cerita yang rumit tetapi sangat menarik. Saya suka!",
         "0.8",
         "Malay"
        ],
        [
         "14",
         "Adegan aksi yang terlalu dramatik dan berlebihan. Tidak realistik.",
         "0.4",
         "Malay"
        ],
        [
         "15",
         "Filem ini benar-benar membuat saya terbawa suasana. Saya kagum dengan keseluruhan produksi.",
         "0.9",
         "Malay"
        ],
        [
         "16",
         "Pelakon memberikan persembahan yang hebat. Saya suka cerita ini!",
         "0.85",
         "Malay"
        ],
        [
         "17",
         "Saya tidak faham dengan plot filem ini. Terlalu kompleks.",
         "0.3",
         "Malay"
        ],
        [
         "18",
         "Kejutan besar dalam plot! Aksi yang memukau sepanjang filem.",
         "0.9",
         "Malay"
        ],
        [
         "19",
         "Visual effects hebat tetapi plot kurang menarik. Saya rasa bosan.",
         "0.4",
         "Malay"
        ],
        [
         "20",
         "Adegan aksi yang luar biasa. Saya rasa teruja sepanjang masa.",
         "0.88",
         "Malay"
        ],
        [
         "21",
         "Sayang sekali, plot filem ini terlalu terbuka. Tidak ada penyelesaian yang memuaskan.",
         "0.3",
         "Malay"
        ],
        [
         "22",
         "Saya suka cara filem ini menggabungkan komedi dengan aksi. Sangat menghiburkan.",
         "0.85",
         "Malay"
        ],
        [
         "23",
         "Kualiti visual dan efek khas filem ini luar biasa. Saya terkesan!",
         "0.9",
         "Malay"
        ],
        [
         "24",
         "Pelakon memberikan persembahan yang sangat baik. Saya suka jalan ceritanya.",
         "0.85",
         "Malay"
        ],
        [
         "25",
         "Filem ini sangat mengecewakan. Tidak sepadan dengan hype.",
         "0.2",
         "Malay"
        ],
        [
         "26",
         "Plot yang rumit tetapi menarik. Adegan akhir yang epik!",
         "0.9",
         "Malay"
        ],
        [
         "27",
         "Adegan aksi yang terlalu berlebihan. Terlalu banyak efek khas.",
         "0.4",
         "Malay"
        ],
        [
         "28",
         "Saya tidak faham dengan twist dalam plot. Sedikit keliru.",
         "0.3",
         "Malay"
        ],
        [
         "29",
         "Filem ini benar-benar menggetarkan perasaan. Saya suka sekali!",
         "0.88",
         "Malay"
        ],
        [
         "30",
         "Visual effects filem ini luar biasa. Teruja dengan kehebatan teknikal.",
         "0.9",
         "Malay"
        ],
        [
         "31",
         "Kurangnya pengembangan watak membuatkan filem ini lemah. Tidak memuaskan.",
         "0.25",
         "Malay"
        ],
        [
         "32",
         "Saya teruja dengan cara filem ini menggabungkan elemen fiksyen sains.",
         "0.8",
         "Malay"
        ],
        [
         "33",
         "Plot yang menarik dan penuh kejutan. Saya suka twist dalam cerita.",
         "0.85",
         "Malay"
        ],
        [
         "34",
         "Filem ini mempunyai kekuatan emosional yang besar. Menyentuh hati!",
         "0.88",
         "Malay"
        ],
        [
         "35",
         "Pelakon memberikan persembahan yang tidak memuaskan. Tidak kredibel.",
         "0.25",
         "Malay"
        ],
        [
         "36",
         "Jalan cerita yang agak biasa tetapi dihidupkan dengan aksi yang hebat.",
         "0.75",
         "Malay"
        ],
        [
         "37",
         "Adegan akhir yang sangat epik! Saya teruja dengan penutupan trilogi ini.",
         "0.92",
         "Malay"
        ],
        [
         "38",
         "Filem ini hebat! Saya suka dengan pengembangan watak.",
         "0.9",
         "Malay"
        ],
        [
         "39",
         "Saya tidak suka dengan jalan cerita yang terlalu kompleks. Tidak dapat diikuti.",
         "0.3",
         "Malay"
        ],
        [
         "40",
         "Sangat gembira dengan filem ini. Aksi yang mengagumkan!",
         "0.88",
         "Malay"
        ],
        [
         "41",
         "Plot yang rumit tetapi sangat menarik. Kejutan besar di penghujung!",
         "0.92",
         "Malay"
        ],
        [
         "42",
         "Visual effects filem ini benar-benar luar biasa. Saya terkesan!",
         "0.9",
         "Malay"
        ],
        [
         "43",
         "Perasaan yang mendalam dalam filem ini membuatkan saya terharu. Saya suka!",
         "0.88",
         "Malay"
        ],
        [
         "44",
         "Kurangnya ketegangan dalam plot membuatkan saya bosan. Tidak ada elemen kejutan.",
         "0.3",
         "Malay"
        ],
        [
         "45",
         "Filem ini memberikan jawapan kepada banyak pertanyaan. Saya suka twistnya.",
         "0.85",
         "Malay"
        ],
        [
         "46",
         "Kejutan besar di tengah-tengah filem! Aksi yang mendebarkan!",
         "0.88",
         "Malay"
        ],
        [
         "47",
         "Visual effects dan animasi filem ini sungguh mengagumkan. Terkesan!",
         "0.9",
         "Malay"
        ],
        [
         "48",
         "Pelakon memberikan persembahan yang sangat baik. Saya suka dengan penutupan ceritanya.",
         "0.88",
         "Malay"
        ],
        [
         "49",
         "Filem ini tidak sehebat yang saya jangkakan. Terlalu banyak klise.",
         "0.3",
         "Malay"
        ]
       ],
       "shape": {
        "columns": 3,
        "rows": 393
       }
      },
      "text/html": [
       "<div>\n",
       "<style scoped>\n",
       "    .dataframe tbody tr th:only-of-type {\n",
       "        vertical-align: middle;\n",
       "    }\n",
       "\n",
       "    .dataframe tbody tr th {\n",
       "        vertical-align: top;\n",
       "    }\n",
       "\n",
       "    .dataframe thead th {\n",
       "        text-align: right;\n",
       "    }\n",
       "</style>\n",
       "<table border=\"1\" class=\"dataframe\">\n",
       "  <thead>\n",
       "    <tr style=\"text-align: right;\">\n",
       "      <th></th>\n",
       "      <th>Review</th>\n",
       "      <th>Score</th>\n",
       "      <th>Language</th>\n",
       "    </tr>\n",
       "  </thead>\n",
       "  <tbody>\n",
       "    <tr>\n",
       "      <th>0</th>\n",
       "      <td>Sayang sekali, pelakon tidak memberikan persem...</td>\n",
       "      <td>0.20</td>\n",
       "      <td>Malay</td>\n",
       "    </tr>\n",
       "    <tr>\n",
       "      <th>1</th>\n",
       "      <td>Jalan cerita yang kompleks dan penuh emosi. Su...</td>\n",
       "      <td>0.80</td>\n",
       "      <td>Malay</td>\n",
       "    </tr>\n",
       "    <tr>\n",
       "      <th>2</th>\n",
       "      <td>Pembuat filem berjaya memberikan pengalaman ya...</td>\n",
       "      <td>0.95</td>\n",
       "      <td>Malay</td>\n",
       "    </tr>\n",
       "    <tr>\n",
       "      <th>3</th>\n",
       "      <td>Adegan aksi yang terlalu banyak dan mengejutka...</td>\n",
       "      <td>0.60</td>\n",
       "      <td>Malay</td>\n",
       "    </tr>\n",
       "    <tr>\n",
       "      <th>4</th>\n",
       "      <td>Saya teruja sepanjang filem. Penceritaan yang ...</td>\n",
       "      <td>0.85</td>\n",
       "      <td>Malay</td>\n",
       "    </tr>\n",
       "    <tr>\n",
       "      <th>...</th>\n",
       "      <td>...</td>\n",
       "      <td>...</td>\n",
       "      <td>...</td>\n",
       "    </tr>\n",
       "    <tr>\n",
       "      <th>388</th>\n",
       "      <td>Pening</td>\n",
       "      <td>0.30</td>\n",
       "      <td>Malay</td>\n",
       "    </tr>\n",
       "    <tr>\n",
       "      <th>389</th>\n",
       "      <td>Berkesan</td>\n",
       "      <td>0.80</td>\n",
       "      <td>Malay</td>\n",
       "    </tr>\n",
       "    <tr>\n",
       "      <th>390</th>\n",
       "      <td>Mengujakan</td>\n",
       "      <td>0.90</td>\n",
       "      <td>Malay</td>\n",
       "    </tr>\n",
       "    <tr>\n",
       "      <th>391</th>\n",
       "      <td>Sederhana and teruk</td>\n",
       "      <td>0.40</td>\n",
       "      <td>Malay</td>\n",
       "    </tr>\n",
       "    <tr>\n",
       "      <th>392</th>\n",
       "      <td>Sempurna</td>\n",
       "      <td>0.90</td>\n",
       "      <td>Malay</td>\n",
       "    </tr>\n",
       "  </tbody>\n",
       "</table>\n",
       "<p>393 rows × 3 columns</p>\n",
       "</div>"
      ],
      "text/plain": [
       "                                                Review  Score Language\n",
       "0    Sayang sekali, pelakon tidak memberikan persem...   0.20    Malay\n",
       "1    Jalan cerita yang kompleks dan penuh emosi. Su...   0.80    Malay\n",
       "2    Pembuat filem berjaya memberikan pengalaman ya...   0.95    Malay\n",
       "3    Adegan aksi yang terlalu banyak dan mengejutka...   0.60    Malay\n",
       "4    Saya teruja sepanjang filem. Penceritaan yang ...   0.85    Malay\n",
       "..                                                 ...    ...      ...\n",
       "388                                             Pening   0.30    Malay\n",
       "389                                           Berkesan   0.80    Malay\n",
       "390                                         Mengujakan   0.90    Malay\n",
       "391                                Sederhana and teruk   0.40    Malay\n",
       "392                                           Sempurna   0.90    Malay\n",
       "\n",
       "[393 rows x 3 columns]"
      ]
     },
     "execution_count": 5,
     "metadata": {},
     "output_type": "execute_result"
    }
   ],
   "source": [
    "# Change it so that higher scores are more positive reviews\n",
    "df['Score'] = 1.0 - df['Score']  # Now 0.95 = Very Positive, 0.10 = Very Negative\n",
    "df['Score'] = df['Score'].round(2)\n",
    "\n",
    "# Display the data after changing scores\n",
    "df"
   ]
  },
  {
   "cell_type": "code",
   "execution_count": 6,
   "id": "2c93a90e",
   "metadata": {},
   "outputs": [
    {
     "data": {
      "image/png": "[encoded data removed]",
      "text/plain": [
       "<Figure size 640x480 with 1 Axes>"
      ]
     },
     "metadata": {},
     "output_type": "display_data"
    }
   ],
   "source": [
    "# Plot the distribution of review scores\n",
    "plt.hist(df['Score'], bins=20, edgecolor='black')\n",
    "plt.xlabel('Score')\n",
    "plt.ylabel('Frequency')\n",
    "plt.title('Distribution of Review Scores')\n",
    "plt.show()"
   ]
  },
  {
   "cell_type": "markdown",
   "id": "269ea776",
   "metadata": {},
   "source": [
    "## Classification Model using Sentiment Analysis"
   ]
  },
  {
   "cell_type": "markdown",
   "id": "a31f3057",
   "metadata": {},
   "source": [
    "### Data Preparation (Classification Specific)"
   ]
  },
  {
   "cell_type": "code",
   "execution_count": 7,
   "id": "10cbabde",
   "metadata": {},
   "outputs": [],
   "source": [
    "# Filter the DataFrame to only include English reviews\n",
    "english_df = df[df['Language'] == 'English']\n",
    "english_df = english_df.reset_index(drop=True)"
   ]
  },
  {
   "cell_type": "code",
   "execution_count": 8,
   "id": "e19a09e8",
   "metadata": {},
   "outputs": [
    {
     "name": "stdout",
     "output_type": "stream",
     "text": [
      "Sentiment\n",
      "Positive    205\n",
      "Negative     62\n",
      "Name: count, dtype: int64\n"
     ]
    }
   ],
   "source": [
    "# Create +ve and -ve labels  \n",
    "def classify_score(score):  \n",
    "    if score <= 0.5:  \n",
    "        return 'Negative'  \n",
    "    else:  \n",
    "        return 'Positive'  \n",
    "\n",
    "english_df['Sentiment'] = english_df['Score'].apply(classify_score)  \n",
    "\n",
    "# Check distribution  \n",
    "print(english_df['Sentiment'].value_counts())  "
   ]
  },
  {
   "cell_type": "code",
   "execution_count": 9,
   "id": "a1a51ec0",
   "metadata": {},
   "outputs": [
    {
     "data": {
      "application/vnd.microsoft.datawrangler.viewer.v0+json": {
       "columns": [
        {
         "name": "index",
         "rawType": "int64",
         "type": "integer"
        },
        {
         "name": "Review",
         "rawType": "object",
         "type": "string"
        },
        {
         "name": "Score",
         "rawType": "float64",
         "type": "float"
        },
        {
         "name": "Language",
         "rawType": "object",
         "type": "string"
        },
        {
         "name": "Sentiment",
         "rawType": "object",
         "type": "string"
        }
       ],
       "ref": "ae624513-679b-40a4-a2c2-e2ce2b420b36",
       "rows": [
        [
         "0",
         "This movie is amazing! The action is breathtaking, and the plot is intriguing.",
         "0.92",
         "English",
         "Positive"
        ],
        [
         "1",
         "I'm disappointed with the actors' performance. Not satisfying.",
         "0.3",
         "English",
         "Negative"
        ],
        [
         "2",
         "The storyline is touching and full of emotion. I love it!",
         "0.88",
         "English",
         "Positive"
        ],
        [
         "3",
         "This movie delivers an outstanding experience. Truly captivating!",
         "0.95",
         "English",
         "Positive"
        ],
        [
         "4",
         "Too many action scenes, sometimes unnecessary. Too dramatic.",
         "0.6",
         "English",
         "Positive"
        ],
        [
         "5",
         "I'm thrilled throughout the movie. Engaging storytelling!",
         "0.85",
         "English",
         "Positive"
        ],
        [
         "6",
         "Avengers: Endgame is disappointing and too cliché. Not enjoyable.",
         "0.15",
         "English",
         "Negative"
        ],
        [
         "7",
         "I like how this movie combines elements of science fiction. Interesting!",
         "0.75",
         "English",
         "Positive"
        ],
        [
         "8",
         "This film is truly impressive with deep emotional tones.",
         "0.88",
         "English",
         "Positive"
        ],
        [
         "9",
         "A cinematic experience that is unforgettable. I'm impressed!",
         "0.9",
         "English",
         "Positive"
        ],
        [
         "10",
         "I feel this movie didn't meet the expected standards. Not satisfying.",
         "0.25",
         "English",
         "Negative"
        ],
        [
         "11",
         "Amazing action and a plot full of surprises. I'm impressed!",
         "0.88",
         "English",
         "Positive"
        ],
        [
         "12",
         "The visual quality of this film is astonishing. Excited about its special effects!",
         "0.9",
         "English",
         "Positive"
        ],
        [
         "13",
         "I'm not satisfied with how the main actors deliver their lines. Not convincing.",
         "0.2",
         "English",
         "Negative"
        ],
        [
         "14",
         "The storyline is complex but very interesting. I like it!",
         "0.8",
         "English",
         "Positive"
        ],
        [
         "15",
         "Dramatic and impactful action scenes. Too many special effects.",
         "0.4",
         "English",
         "Negative"
        ],
        [
         "16",
         "This film captivates with the atmosphere it creates. I'm impressed!",
         "0.9",
         "English",
         "Positive"
        ],
        [
         "17",
         "The actors give excellent performances. I like this story!",
         "0.85",
         "English",
         "Positive"
        ],
        [
         "18",
         "I don't understand the plot of this film. Too complex.",
         "0.3",
         "English",
         "Negative"
        ],
        [
         "19",
         "A big surprise in the plot! Thrilling action throughout.",
         "0.9",
         "English",
         "Positive"
        ],
        [
         "20",
         "The visual effects of this film are truly captivating. I'm impressed!",
         "0.9",
         "English",
         "Positive"
        ],
        [
         "21",
         "An open-ended and unsatisfying plot. No satisfying conclusion.",
         "0.3",
         "English",
         "Negative"
        ],
        [
         "22",
         "This film makes me laugh and cry. Love the emotions conveyed.",
         "0.85",
         "English",
         "Positive"
        ],
        [
         "23",
         "The actors fail to portray their characters well. Not credible.",
         "0.3",
         "English",
         "Negative"
        ],
        [
         "24",
         "Overall, this film is great! I would watch it again.",
         "0.92",
         "English",
         "Positive"
        ],
        [
         "25",
         "Outstanding action scenes. Excited about the trilogy's conclusion.",
         "0.88",
         "English",
         "Positive"
        ],
        [
         "26",
         "Unfortunately, the plot of this film is too open-ended. No satisfying closure.",
         "0.3",
         "English",
         "Negative"
        ],
        [
         "27",
         "I like how this film combines comedy with action. Highly entertaining.",
         "0.85",
         "English",
         "Positive"
        ],
        [
         "28",
         "The actors give a very good performance. I like the story.",
         "0.88",
         "English",
         "Positive"
        ],
        [
         "29",
         "This film is very disappointing. Not worth the hype.",
         "0.2",
         "English",
         "Negative"
        ],
        [
         "30",
         "Complex but very interesting plot. Big twist at the end!",
         "0.9",
         "English",
         "Positive"
        ],
        [
         "31",
         "Too many over-the-top action scenes. Too many special effects.",
         "0.4",
         "English",
         "Negative"
        ],
        [
         "32",
         "I don't understand the twist in the plot. A bit confusing.",
         "0.3",
         "English",
         "Negative"
        ],
        [
         "33",
         "This film is interesting and provides a deep experience. I like it!",
         "0.88",
         "English",
         "Positive"
        ],
        [
         "34",
         "The visual effects of this film are outstanding. Excited about the technical brilliance!",
         "0.9",
         "English",
         "Positive"
        ],
        [
         "35",
         "I'm thrilled with how this film incorporates elements of science fiction.",
         "0.8",
         "English",
         "Positive"
        ],
        [
         "36",
         "Interesting and surprising plot. Love the twist in the story.",
         "0.85",
         "English",
         "Positive"
        ],
        [
         "37",
         "This film has a great emotional impact. Touching!",
         "0.88",
         "English",
         "Positive"
        ],
        [
         "38",
         "The actors give a very good performance. I like the character development.",
         "0.88",
         "English",
         "Positive"
        ],
        [
         "39",
         "The plot is quite ordinary but brought to life with great action.",
         "0.75",
         "English",
         "Positive"
        ],
        [
         "40",
         "An extremely epic ending! Thrilled with the trilogy's conclusion.",
         "0.92",
         "English",
         "Positive"
        ],
        [
         "41",
         "This film is great! I like the character development.",
         "0.9",
         "English",
         "Positive"
        ],
        [
         "42",
         "I don't like the overly complex plot. Hard to follow.",
         "0.3",
         "English",
         "Negative"
        ],
        [
         "43",
         "Very pleased with this film. Amazing action!",
         "0.88",
         "English",
         "Positive"
        ],
        [
         "44",
         "Complex but very interesting plot. Big surprise at the end!",
         "0.92",
         "English",
         "Positive"
        ],
        [
         "45",
         "The visual effects of this film are truly astonishing. Impressed!",
         "0.9",
         "English",
         "Positive"
        ],
        [
         "46",
         "Deep emotional impact in this film makes me teary-eyed. I like it!",
         "0.88",
         "English",
         "Positive"
        ],
        [
         "47",
         "Lack of tension in the plot makes me bored. No surprising elements.",
         "0.3",
         "English",
         "Negative"
        ],
        [
         "48",
         "This film provides answers to many questions. Love the twist!",
         "0.85",
         "English",
         "Positive"
        ],
        [
         "49",
         "A big surprise in the middle of the film! Thrilling action!",
         "0.88",
         "English",
         "Positive"
        ]
       ],
       "shape": {
        "columns": 4,
        "rows": 267
       }
      },
      "text/html": [
       "<div>\n",
       "<style scoped>\n",
       "    .dataframe tbody tr th:only-of-type {\n",
       "        vertical-align: middle;\n",
       "    }\n",
       "\n",
       "    .dataframe tbody tr th {\n",
       "        vertical-align: top;\n",
       "    }\n",
       "\n",
       "    .dataframe thead th {\n",
       "        text-align: right;\n",
       "    }\n",
       "</style>\n",
       "<table border=\"1\" class=\"dataframe\">\n",
       "  <thead>\n",
       "    <tr style=\"text-align: right;\">\n",
       "      <th></th>\n",
       "      <th>Review</th>\n",
       "      <th>Score</th>\n",
       "      <th>Language</th>\n",
       "      <th>Sentiment</th>\n",
       "    </tr>\n",
       "  </thead>\n",
       "  <tbody>\n",
       "    <tr>\n",
       "      <th>0</th>\n",
       "      <td>This movie is amazing! The action is breathtak...</td>\n",
       "      <td>0.92</td>\n",
       "      <td>English</td>\n",
       "      <td>Positive</td>\n",
       "    </tr>\n",
       "    <tr>\n",
       "      <th>1</th>\n",
       "      <td>I'm disappointed with the actors' performance....</td>\n",
       "      <td>0.30</td>\n",
       "      <td>English</td>\n",
       "      <td>Negative</td>\n",
       "    </tr>\n",
       "    <tr>\n",
       "      <th>2</th>\n",
       "      <td>The storyline is touching and full of emotion....</td>\n",
       "      <td>0.88</td>\n",
       "      <td>English</td>\n",
       "      <td>Positive</td>\n",
       "    </tr>\n",
       "    <tr>\n",
       "      <th>3</th>\n",
       "      <td>This movie delivers an outstanding experience....</td>\n",
       "      <td>0.95</td>\n",
       "      <td>English</td>\n",
       "      <td>Positive</td>\n",
       "    </tr>\n",
       "    <tr>\n",
       "      <th>4</th>\n",
       "      <td>Too many action scenes, sometimes unnecessary....</td>\n",
       "      <td>0.60</td>\n",
       "      <td>English</td>\n",
       "      <td>Positive</td>\n",
       "    </tr>\n",
       "    <tr>\n",
       "      <th>...</th>\n",
       "      <td>...</td>\n",
       "      <td>...</td>\n",
       "      <td>...</td>\n",
       "      <td>...</td>\n",
       "    </tr>\n",
       "    <tr>\n",
       "      <th>262</th>\n",
       "      <td>Compelling story, outstanding performances</td>\n",
       "      <td>0.88</td>\n",
       "      <td>English</td>\n",
       "      <td>Positive</td>\n",
       "    </tr>\n",
       "    <tr>\n",
       "      <th>263</th>\n",
       "      <td>Intricate plot, unexpected twists</td>\n",
       "      <td>0.90</td>\n",
       "      <td>English</td>\n",
       "      <td>Positive</td>\n",
       "    </tr>\n",
       "    <tr>\n",
       "      <th>264</th>\n",
       "      <td>Underwhelming moments, weak characterizations</td>\n",
       "      <td>0.40</td>\n",
       "      <td>English</td>\n",
       "      <td>Negative</td>\n",
       "    </tr>\n",
       "    <tr>\n",
       "      <th>265</th>\n",
       "      <td>Breathtaking visuals, engaging narrative</td>\n",
       "      <td>0.92</td>\n",
       "      <td>English</td>\n",
       "      <td>Positive</td>\n",
       "    </tr>\n",
       "    <tr>\n",
       "      <th>266</th>\n",
       "      <td>Top-notch effects, captivating storytelling</td>\n",
       "      <td>0.92</td>\n",
       "      <td>English</td>\n",
       "      <td>Positive</td>\n",
       "    </tr>\n",
       "  </tbody>\n",
       "</table>\n",
       "<p>267 rows × 4 columns</p>\n",
       "</div>"
      ],
      "text/plain": [
       "                                                Review  Score Language  \\\n",
       "0    This movie is amazing! The action is breathtak...   0.92  English   \n",
       "1    I'm disappointed with the actors' performance....   0.30  English   \n",
       "2    The storyline is touching and full of emotion....   0.88  English   \n",
       "3    This movie delivers an outstanding experience....   0.95  English   \n",
       "4    Too many action scenes, sometimes unnecessary....   0.60  English   \n",
       "..                                                 ...    ...      ...   \n",
       "262         Compelling story, outstanding performances   0.88  English   \n",
       "263                  Intricate plot, unexpected twists   0.90  English   \n",
       "264      Underwhelming moments, weak characterizations   0.40  English   \n",
       "265           Breathtaking visuals, engaging narrative   0.92  English   \n",
       "266        Top-notch effects, captivating storytelling   0.92  English   \n",
       "\n",
       "    Sentiment  \n",
       "0    Positive  \n",
       "1    Negative  \n",
       "2    Positive  \n",
       "3    Positive  \n",
       "4    Positive  \n",
       "..        ...  \n",
       "262  Positive  \n",
       "263  Positive  \n",
       "264  Negative  \n",
       "265  Positive  \n",
       "266  Positive  \n",
       "\n",
       "[267 rows x 4 columns]"
      ]
     },
     "execution_count": 9,
     "metadata": {},
     "output_type": "execute_result"
    }
   ],
   "source": [
    "english_df"
   ]
  },
  {
   "cell_type": "code",
   "execution_count": 10,
   "id": "cae5e9fb",
   "metadata": {},
   "outputs": [
    {
     "name": "stdout",
     "output_type": "stream",
     "text": [
      "Class weights: {0: 2.153225806451613, 1: 0.651219512195122}\n"
     ]
    }
   ],
   "source": [
    "# Compute class weights\n",
    "class_weights = compute_class_weight(\n",
    "    \"balanced\", classes=[\"Negative\", \"Positive\"], y=english_df[\"Sentiment\"]\n",
    ")\n",
    "class_weight_dict = dict(zip([0, 1], class_weights))  # Map to label indices\n",
    "\n",
    "# Display class weights\n",
    "print(\"Class weights:\", class_weight_dict)"
   ]
  },
  {
   "cell_type": "code",
   "execution_count": 11,
   "id": "10271c26",
   "metadata": {},
   "outputs": [
    {
     "name": "stdout",
     "output_type": "stream",
     "text": [
      "Vocabulary size: 1000\n",
      "Number of words: 4093\n",
      "['This', 'movie', 'is', 'amazing!', 'The', 'action', 'is', 'breathtaking,', 'and', 'the', 'plot', 'is', 'intriguing.', \"I'm\", 'disappointed', 'with', 'the', \"actors'\", 'performance.', 'Not', 'satisfying.', 'The', 'storyline', 'is', 'touching', 'and', 'full', 'of', 'emotion.', 'I', 'love', 'it!', 'This', 'movie', 'delivers', 'an', 'outstanding', 'experience.', 'Truly', 'captivating!', 'Too', 'many', 'action', 'scenes,', 'sometimes', 'unnecessary.', 'Too', 'dramatic.', \"I'm\", 'thrilled', 'throughout', 'the', 'movie.', 'Engaging', 'storytelling!', 'Avengers:', 'Endgame', 'is', 'disappointing', 'and', 'too', 'cliché.', 'Not', 'enjoyable.', 'I', 'like', 'how', 'this', 'movie', 'combines', 'elements', 'of', 'science', 'fiction.', 'Interesting!', 'This', 'film', 'is', 'truly', 'impressive', 'with', 'deep', 'emotional', 'tones.', 'A', 'cinematic', 'experience', 'that', 'is', 'unforgettable.', \"I'm\", 'impressed!', 'I', 'feel', 'this', 'movie', \"didn't\", 'meet', 'the', 'expected', 'standards.', 'Not', 'satisfying.', 'Amazing', 'action', 'and', 'a', 'plot', 'full', 'of', 'surprises.', \"I'm\", 'impressed!', 'The', 'visual', 'quality', 'of', 'this', 'film', 'is', 'astonishing.', 'Excited', 'about', 'its', 'special', 'effects!', \"I'm\", 'not', 'satisfied', 'with', 'how', 'the', 'main', 'actors', 'deliver', 'their', 'lines.', 'Not', 'convincing.', 'The', 'storyline', 'is', 'complex', 'but', 'very', 'interesting.', 'I', 'like', 'it!', 'Dramatic', 'and', 'impactful', 'action', 'scenes.', 'Too', 'many', 'special', 'effects.', 'This', 'film', 'captivates', 'with', 'the', 'atmosphere', 'it', 'creates.', \"I'm\", 'impressed!', 'The', 'actors', 'give', 'excellent', 'performances.', 'I', 'like', 'this', 'story!', 'I', \"don't\", 'understand', 'the', 'plot', 'of', 'this', 'film.', 'Too', 'complex.', 'A', 'big', 'surprise', 'in', 'the', 'plot!', 'Thrilling', 'action', 'throughout.', 'The', 'visual', 'effects', 'of', 'this', 'film', 'are', 'truly', 'captivating.', \"I'm\", 'impressed!', 'An', 'open-ended', 'and', 'unsatisfying', 'plot.', 'No', 'satisfying', 'conclusion.', 'This', 'film', 'makes', 'me', 'laugh', 'and', 'cry.', 'Love', 'the', 'emotions', 'conveyed.', 'The', 'actors', 'fail', 'to', 'portray', 'their', 'characters', 'well.', 'Not', 'credible.', 'Overall,', 'this', 'film', 'is', 'great!', 'I', 'would', 'watch', 'it', 'again.', 'Outstanding', 'action', 'scenes.', 'Excited', 'about', 'the', \"trilogy's\", 'conclusion.', 'Unfortunately,', 'the', 'plot', 'of', 'this', 'film', 'is', 'too', 'open-ended.', 'No', 'satisfying', 'closure.', 'I', 'like', 'how', 'this', 'film', 'combines', 'comedy', 'with', 'action.', 'Highly', 'entertaining.', 'The', 'actors', 'give', 'a', 'very', 'good', 'performance.', 'I', 'like', 'the', 'story.', 'This', 'film', 'is', 'very', 'disappointing.', 'Not', 'worth', 'the', 'hype.', 'Complex', 'but', 'very', 'interesting', 'plot.', 'Big', 'twist', 'at', 'the', 'end!', 'Too', 'many', 'over-the-top', 'action', 'scenes.', 'Too', 'many', 'special', 'effects.', 'I', \"don't\", 'understand', 'the', 'twist', 'in', 'the', 'plot.', 'A', 'bit', 'confusing.', 'This', 'film', 'is', 'interesting', 'and', 'provides', 'a', 'deep', 'experience.', 'I', 'like', 'it!', 'The', 'visual', 'effects', 'of', 'this', 'film', 'are', 'outstanding.', 'Excited', 'about', 'the', 'technical', 'brilliance!', \"I'm\", 'thrilled', 'with', 'how', 'this', 'film', 'incorporates', 'elements', 'of', 'science', 'fiction.', 'Interesting', 'and', 'surprising', 'plot.', 'Love', 'the', 'twist', 'in', 'the', 'story.', 'This', 'film', 'has', 'a', 'great', 'emotional', 'impact.', 'Touching!', 'The', 'actors', 'give', 'a', 'very', 'good', 'performance.', 'I', 'like', 'the', 'character', 'development.', 'The', 'plot', 'is', 'quite', 'ordinary', 'but', 'brought', 'to', 'life', 'with', 'great', 'action.', 'An', 'extremely', 'epic', 'ending!', 'Thrilled', 'with', 'the', \"trilogy's\", 'conclusion.', 'This', 'film', 'is', 'great!', 'I', 'like', 'the', 'character', 'development.', 'I', \"don't\", 'like', 'the', 'overly', 'complex', 'plot.', 'Hard', 'to', 'follow.', 'Very', 'pleased', 'with', 'this', 'film.', 'Amazing', 'action!', 'Complex', 'but', 'very', 'interesting', 'plot.', 'Big', 'surprise', 'at', 'the', 'end!', 'The', 'visual', 'effects', 'of', 'this', 'film', 'are', 'truly', 'astonishing.', 'Impressed!', 'Deep', 'emotional', 'impact', 'in', 'this', 'film', 'makes', 'me', 'teary-eyed.', 'I', 'like', 'it!', 'Lack', 'of', 'tension', 'in', 'the', 'plot', 'makes', 'me', 'bored.', 'No', 'surprising', 'elements.', 'This', 'film', 'provides', 'answers', 'to', 'many', 'questions.', 'Love', 'the', 'twist!', 'A', 'big', 'surprise', 'in', 'the', 'middle', 'of', 'the', 'film!', 'Thrilling', 'action!', 'The', 'visual', 'effects', 'and', 'animation', 'in', 'this', 'film', 'are', 'truly', 'amazing.', 'Impressed!', 'The', 'actors', 'give', 'an', 'outstanding', 'performance.', 'I', 'like', 'this', 'story!', 'Thrilling', 'action', 'but', 'a', 'somewhat', 'weak', 'plot.', 'Not', 'balanced.', \"I'm\", 'thrilled', 'with', 'how', 'this', 'film', 'brings', 'back', 'elements', 'from', 'previous', 'movies.', 'This', 'film', 'is', 'a', 'masterpiece!', 'The', 'storytelling', 'is', 'exceptional,', 'and', 'the', 'performances', 'are', 'outstanding.', \"I'm\", 'underwhelmed', 'by', 'the', 'plot', 'twists.', 'Not', 'as', 'impactful', 'as', 'expected.', 'The', 'emotional', 'depth', 'of', 'the', 'characters', 'and', 'the', 'engaging', 'plot', 'make', 'it', 'a', 'must-watch!', 'Highly', 'recommended.', 'A', 'cinematic', 'marvel!', 'The', 'visuals', 'are', 'breathtaking,', 'and', 'the', 'narrative', 'is', 'spellbinding.', 'The', 'abundance', 'of', 'action', 'scenes', 'is', 'exhilarating.', 'A', 'bit', 'overwhelming', 'at', 'times.', \"I'm\", 'captivated', 'from', 'start', 'to', 'finish.', 'The', 'storytelling', 'is', 'compelling!', 'Avengers:', 'Endgame', 'falls', 'short', 'of', 'expectations.', 'The', 'storyline', 'is', 'too', 'predictable.', 'The', 'fusion', 'of', 'science', 'fiction', 'elements', 'adds', 'a', 'unique', 'and', 'intriguing', 'dimension.', 'Fascinating!', 'This', 'film', 'resonates', 'with', 'profound', 'emotions.', 'A', 'truly', 'remarkable', 'experience.', 'A', 'visual', 'spectacle', 'that', 'leaves', 'a', 'lasting', 'impression.', 'Absolutely', 'mesmerizing!', 'The', 'film', 'struggles', 'to', 'meet', 'the', 'anticipated', 'standards.', 'Falls', 'flat', 'in', 'some', 'areas.', 'The', 'action', 'sequences', 'are', 'mind-blowing,', 'and', 'the', 'plot', 'twists', 'keep', 'you', 'on', 'the', 'edge', 'of', 'your', 'seat!', 'The', 'visual', 'quality', 'is', 'top-notch,', 'creating', 'a', 'visual', 'feast', 'for', 'the', 'audience.', 'Impressive', 'special', 'effects!', 'The', 'delivery', 'of', 'dialogue', 'by', 'the', 'main', 'actors', 'lacks', 'conviction.', 'Not', 'entirely', 'convincing.', 'The', 'intricate', 'storyline', 'adds', 'depth', 'to', 'the', 'narrative.', 'A', 'genuinely', 'captivating', 'experience!', 'The', 'action', 'scenes', 'are', 'intense', 'and', 'impactful.', 'Some', 'may', 'find', 'the', 'special', 'effects', 'excessive.', 'The', 'film', 'creates', 'an', 'immersive', 'atmosphere', 'that', 'is', 'both', 'captivating', 'and', 'emotionally', 'resonant.', 'Impressive!', 'Outstanding', 'performances', 'from', 'the', 'cast.', 'The', 'narrative', 'is', 'enriched', 'with', 'character', 'development.', 'I', 'find', 'the', 'plot', 'of', 'this', 'film', 'to', 'be', 'overly', 'complex.', 'A', 'bit', 'hard', 'to', 'follow.', 'A', 'surprising', 'twist', 'in', 'the', 'plot', 'keeps', 'the', 'audience', 'engaged.', 'Thrilling', 'from', 'start', 'to', 'finish!', 'The', 'visual', 'effects', 'are', 'nothing', 'short', 'of', 'spectacular.', 'Truly', 'impressed!', 'The', 'open-ended', 'nature', 'of', 'the', 'plot', 'leaves', 'room', 'for', 'interpretation.', 'Some', 'may', 'find', 'it', 'unsatisfying.', 'This', 'film', 'evokes', 'both', 'laughter', 'and', 'tears.', 'A', 'testament', 'to', 'its', 'emotional', 'resonance.', 'The', 'actors', 'struggle', 'to', 'embody', 'their', 'characters', 'convincingly.', 'Lacks', 'credibility.', 'Overall,', 'the', 'film', 'is', 'a', 'great', 'watch!', 'I', 'would', 'gladly', 'revisit', 'it.', 'The', 'action', 'scenes', 'are', 'exceptional.', 'The', \"trilogy's\", 'conclusion', 'is', 'nothing', 'short', 'of', 'epic!', 'Unfortunately,', 'the', 'plot', 'leaves', 'too', 'many', 'loose', 'ends.', 'The', 'closure', 'is', 'unsatisfying.', 'I', 'appreciate', 'the', 'blend', 'of', 'comedy', 'and', 'action,', 'creating', 'an', 'entertaining', 'experience.', 'The', 'visual', 'effects', 'and', 'animation', 'are', 'truly', 'awe-inspiring.', 'Impressively', 'done!', 'The', 'cast', 'delivers', 'commendable', 'performances.', 'The', 'narrative', 'is', 'enriched', 'with', 'a', 'compelling', 'story.', 'This', 'film', 'is', 'highly', 'disappointing.', 'It', 'fails', 'to', 'live', 'up', 'to', 'the', 'hype.', 'The', 'plot', 'is', 'intricate', 'but', 'highly', 'engaging.', 'A', 'major', 'twist', 'awaits', 'at', 'the', 'end!', 'Excessive', 'over-the-top', 'action', 'scenes.', 'The', 'abundance', 'of', 'special', 'effects', 'may', 'be', 'overwhelming.', 'The', 'twist', 'in', 'the', 'plot', 'leaves', 'me', 'puzzled.', 'Somewhat', 'confusing.', 'The', 'film', 'strikes', 'a', 'balance', 'between', 'being', 'intriguing', 'and', 'emotionally', 'resonant.', 'I', 'thoroughly', 'enjoy', 'it!', 'The', 'visual', 'effects', 'leave', 'a', 'lasting', 'impact.', 'The', 'technical', 'brilliance', 'is', 'truly', 'impressive!', 'Weak', 'character', 'development', 'renders', 'the', 'film', 'less', 'satisfying.', 'A', 'missed', 'opportunity.', \"I'm\", 'impressed', 'with', 'how', 'the', 'film', 'incorporates', 'elements', 'of', 'science', 'fiction.', 'The', 'plot', 'unfolds', 'with', 'interesting', 'twists', 'and', 'turns.', 'I', 'appreciate', 'the', 'unpredictable', 'story.', 'This', 'film', 'packs', 'a', 'powerful', 'emotional', 'punch.', 'Touching', 'and', 'heartwarming!', 'The', 'cast', 'delivers', 'exceptional', 'performances.', 'The', 'character', 'development', 'is', 'praiseworthy.', 'While', 'the', 'plot', 'is', 'somewhat', 'ordinary,', 'the', 'film', 'is', 'elevated', 'by', 'its', 'stellar', 'action', 'sequences.', 'The', 'epic', 'conclusion', 'is', 'nothing', 'short', 'of', 'thrilling!', 'A', 'satisfying', 'end', 'to', 'the', 'trilogy.', 'This', 'film', 'is', 'outstanding!', 'I', 'appreciate', 'the', 'well-crafted', 'character', 'development.', 'I', 'struggle', 'to', 'comprehend', 'the', 'overly', 'complex', 'plot.', \"It's\", 'challenging', 'to', 'follow.', \"I'm\", 'thoroughly', 'pleased', 'with', 'this', 'film.', 'The', 'action', 'is', 'nothing', 'short', 'of', 'amazing!', 'A', 'complex', 'yet', 'engaging', 'plot.', 'A', 'major', 'surprise', 'awaits', 'at', 'the', 'end!', 'The', 'visual', 'effects', 'are', 'absolutely', 'outstanding.', 'Truly', 'impressed!', 'The', 'deep', 'emotional', 'impact', 'resonates', 'throughout', 'the', 'film.', 'I', 'find', 'it', 'truly', 'moving!', 'The', 'lack', 'of', 'tension', 'in', 'the', 'plot', 'leaves', 'me', 'bored.', 'The', 'absence', 'of', 'surprising', 'elements', 'is', 'noticeable.', 'The', 'film', 'answers', 'many', 'lingering', 'questions.', 'The', 'plot', 'twist', 'adds', 'an', 'extra', 'layer', 'of', 'intrigue!', 'A', 'surprising', 'twist', 'in', 'the', 'middle', 'of', 'the', 'film', 'keeps', 'the', 'audience', 'on', 'the', 'edge', 'of', 'their', 'seats!', 'The', 'visual', 'effects', 'and', 'animation', 'are', 'truly', 'amazing.', \"I'm\", 'thoroughly', 'impressed!', 'The', 'cast', 'delivers', 'outstanding', 'performances.', \"I'm\", 'captivated', 'by', 'the', 'story!', 'The', 'action', 'is', 'thrilling,', 'but', 'the', 'plot', 'feels', 'somewhat', 'weak.', 'The', 'balance', 'is', 'not', 'quite', 'there.', \"I'm\", 'thrilled', 'by', 'how', 'the', 'film', 'reintroduces', 'elements', 'from', 'previous', 'movies.', 'Avengers:', 'Endgame', 'is', 'an', 'absolute', 'masterpiece!', 'The', 'film', 'seamlessly', 'weaves', 'together', 'a', 'complex', 'yet', 'engaging', 'narrative,', 'leaving', 'audiences', 'on', 'the', 'edge', 'of', 'their', 'seats.', 'The', 'performances', 'from', 'the', 'cast', 'are', 'stellar,', 'bringing', 'emotional', 'depth', 'to', 'the', 'characters.', 'The', 'visual', 'effects', 'are', 'nothing', 'short', 'of', 'breathtaking,', 'creating', 'a', 'cinematic', 'experience', 'that', 'will', 'be', 'remembered', 'for', 'years', 'to', 'come.', 'While', 'the', 'plot', 'of', 'Avengers:', 'Endgame', 'takes', 'unexpected', 'turns,', 'I', 'found', 'some', 'of', 'the', 'twists', 'to', 'be', 'underwhelming.', 'The', 'film,', 'however,', 'compensates', 'with', 'visually', 'stunning', 'sequences', 'and', 'impressive', 'action', 'scenes.', 'The', 'emotional', 'moments', 'hit', 'hard,', 'showcasing', 'the', 'bond', 'between', 'the', 'characters.', 'Overall,', 'a', 'solid', 'addition', 'to', 'the', 'Marvel', 'Cinematic', 'Universe.', 'This', 'film', 'transcends', 'the', 'typical', 'superhero', 'genre,', 'delivering', 'a', 'profound', 'and', 'emotionally', 'resonant', 'story.', 'The', 'characters', 'undergo', 'significant', 'development,', 'and', 'the', 'plot', 'is', 'both', 'intricate', 'and', 'thought-provoking.', 'Avengers:', 'Endgame', 'is', 'a', 'rollercoaster', 'of', 'emotions,', 'from', 'heart-wrenching', 'moments', 'to', 'triumphant', 'victories.', 'A', 'true', 'cinematic', 'achievement.', 'Avengers:', 'Endgame', 'is', 'a', 'cinematic', 'marvel', 'that', 'exceeds', 'expectations.', 'The', 'narrative', 'is', 'rich', 'with', 'depth,', 'exploring', 'themes', 'of', 'sacrifice,', 'friendship,', 'and', 'resilience.', 'The', 'visual', 'spectacle', 'is', 'awe-inspiring,', 'with', 'each', 'frame', 'meticulously', 'crafted.', 'The', 'performances', 'of', 'the', 'cast', 'elevate', 'the', 'film,', 'making', 'it', 'a', 'fitting', 'conclusion', 'to', 'the', 'epic', 'saga.', 'The', \"film's\", 'abundance', 'of', 'action', 'scenes', 'contributes', 'to', 'a', 'high-energy', 'viewing', 'experience,', 'but', 'at', 'times,', 'it', 'feels', 'a', 'bit', 'overwhelming.', 'Despite', 'this,', 'Avengers:', 'Endgame', 'succeeds', 'in', 'delivering', 'a', 'satisfying', 'and', 'emotional', 'conclusion', 'to', 'the', \"characters'\", 'journeys.', 'The', 'special', 'effects', 'are', 'top-notch,', 'creating', 'memorable', 'visuals', 'that', 'linger', 'in', 'the', 'mind.', 'I', 'was', 'captivated', 'from', 'start', 'to', 'finish', 'by', 'the', 'storytelling', 'prowess', 'of', 'Avengers:', 'Endgame.', 'The', 'film', 'skillfully', 'blends', 'suspense,', 'humor,', 'and', 'heart,', 'creating', 'a', 'narrative', 'that', 'keeps', 'the', 'audience', 'invested.', 'The', \"characters'\", 'arcs', 'are', 'well-developed,', 'adding', 'emotional', 'weight', 'to', 'the', 'overall', 'story.', 'A', 'must-watch', 'for', 'fans', 'and', 'newcomers', 'alike.', 'Avengers:', 'Endgame', 'falls', 'short', 'of', 'the', 'high', 'expectations', 'set', 'by', 'its', 'predecessors.', 'While', 'the', 'film', 'has', 'its', 'moments,', 'the', 'plot', 'feels', 'somewhat', 'predictable,', 'and', 'certain', 'character', 'choices', 'may', 'leave', 'fans', 'wanting', 'more.', 'The', 'visual', 'effects,', 'however,', 'remain', 'a', 'highlight,', 'showcasing', 'the', 'technological', 'prowess', 'of', 'modern', 'filmmaking.', 'The', 'infusion', 'of', 'science', 'fiction', 'elements', 'into', 'Avengers:', 'Endgame', 'adds', 'an', 'intriguing', 'layer', 'to', 'the', 'narrative.', 'The', 'exploration', 'of', 'time', 'travel', 'and', 'alternate', 'realities', 'introduces', 'complexity', 'to', 'the', 'plot,', 'keeping', 'viewers', 'engaged.', 'The', 'film', 'successfully', 'balances', 'these', 'elements,', 'creating', 'a', 'unique', 'and', 'thought-provoking', 'superhero', 'experience.', 'This', 'film', 'goes', 'beyond', 'typical', 'superhero', 'fare,', 'delving', 'into', 'the', 'emotional', 'struggles', 'of', 'the', 'characters.', 'The', 'depth', 'of', 'emotion', 'conveyed', 'by', 'the', 'cast', 'is', 'commendable,', 'making', 'Avengers:', 'Endgame', 'a', 'touching', 'and', 'memorable', 'cinematic', 'journey.', 'The', 'intricate', 'plot', 'weaves', 'together', 'various', 'storylines,', 'providing', 'a', 'satisfying', 'conclusion', 'to', 'the', 'overarching', 'narrative.', 'Avengers:', 'Endgame', 'is', 'a', 'visual', 'spectacle', 'that', 'pushes', 'the', 'boundaries', 'of', 'filmmaking.', 'The', 'special', 'effects', 'are', 'nothing', 'short', 'of', 'mesmerizing,', 'creating', 'breathtaking', 'scenes', 'that', 'transport', 'the', 'audience', 'to', 'otherworldly', 'realms.', 'The', \"film's\", 'technical', 'brilliance', 'is', 'a', 'testament', 'to', 'the', 'evolving', 'landscape', 'of', 'cinematic', 'artistry.', 'While', 'Avengers:', 'Endgame', 'has', 'its', 'moments', 'of', 'brilliance,', 'it', 'stumbles', 'in', 'maintaining', 'a', 'consistent', 'narrative', 'flow.', 'Some', 'plot', 'points', 'feel', 'rushed,', 'leaving', 'certain', 'character', 'arcs', 'underexplored.', 'Despite', 'these', 'shortcomings,', 'the', 'film', 'delivers', 'on', 'the', 'spectacle,', 'with', 'action', 'sequences', 'that', 'leave', 'a', 'lasting', 'impression.', 'The', 'action', 'sequences', 'in', 'Avengers:', 'Endgame', 'are', 'nothing', 'short', 'of', 'mind-blowing.', 'The', 'choreography', 'and', 'visual', 'effects', 'combine', 'to', 'create', 'an', 'adrenaline-pumping', 'experience.', 'The', 'plot', 'twists', 'and', 'turns', 'keep', 'the', 'audience', 'guessing,', 'and', 'the', 'film', 'successfully', 'ties', 'up', 'loose', 'ends', 'from', 'previous', 'installments.', 'A', 'satisfying', 'addition', 'to', 'the', 'Marvel', 'saga.', 'The', 'visual', 'quality', 'of', 'Avengers:', 'Endgame', 'is', 'a', 'standout', 'feature,', 'with', 'each', 'frame', 'meticulously', 'crafted', 'to', 'perfection.', 'The', 'attention', 'to', 'detail', 'in', 'the', 'special', 'effects', 'elevates', 'the', 'film,', 'creating', 'a', 'visually', 'stunning', 'masterpiece.', 'The', 'use', 'of', 'CGI', 'seamlessly', 'blends', 'with', 'practical', 'effects,', 'resulting', 'in', 'a', 'cinematic', 'experience', 'that', 'dazzles', 'the', 'senses.', 'While', 'the', 'main', 'actors', 'deliver', 'commendable', 'performances,', 'there', 'are', 'moments', 'where', 'the', 'dialogue', 'falls', 'flat.', 'The', 'emotional', 'beats', 'are', 'occasionally', 'overshadowed', 'by', 'the', 'grandeur', 'of', 'the', 'action', 'sequences.', 'Despite', 'this,', 'the', \"characters'\", 'journeys', 'and', 'the', \"film's\", 'overarching', 'themes', 'leave', 'a', 'lasting', 'impact.', 'The', 'complexity', 'of', 'the', 'storyline', 'in', 'Avengers:', 'Endgame', 'adds', 'depth', 'to', 'the', 'overall', 'narrative.', 'The', 'film', 'weaves', 'together', 'multiple', 'threads,', 'providing', 'a', 'rich', 'and', 'engaging', 'experience.', 'Each', \"character's\", 'contribution', 'to', 'the', 'plot', 'is', 'significant,', 'creating', 'a', 'tapestry', 'of', 'interconnected', 'stories', 'that', 'converge', 'in', 'a', 'satisfying', 'climax.', 'The', 'film', 'strikes', 'a', 'balance', 'between', 'intense', 'action', 'scenes', 'and', 'emotionally', 'charged', 'moments.', 'The', 'visual', 'spectacle', 'is', 'complemented', 'by', 'character', 'development,', 'making', 'Avengers:', 'Endgame', 'a', 'well-rounded', 'cinematic', 'experience.', 'The', 'narrative', 'unfolds', 'organically,', 'keeping', 'viewers', 'invested', 'in', 'the', 'fates', 'of', 'their', 'favorite', 'characters.', 'Avengers:', 'Endgame', 'immerses', 'the', 'audience', 'in', 'a', 'visually', 'stunning', 'world,', 'from', 'the', 'intricate', 'details', 'of', 'set', 'design', 'to', 'the', 'breathtaking', 'landscapes.', 'The', \"film's\", 'ability', 'to', 'create', 'a', 'vivid', 'and', 'immersive', 'atmosphere', 'is', 'a', 'testament', 'to', 'the', 'creativity', 'and', 'skill', 'of', 'the', 'filmmaking', 'team.', 'A', 'visual', 'feast', 'for', 'cinephiles.', 'The', 'performances', 'of', 'the', 'cast', 'in', 'Avengers:', 'Endgame', 'are', 'outstanding,', 'particularly', 'in', 'conveying', 'the', 'emotional', 'weight', 'of', 'the', \"characters'\", 'journeys.', 'The', 'nuanced', 'portrayals', 'add', 'depth', 'to', 'the', 'narrative,', 'creating', 'a', 'sense', 'of', 'connection', 'between', 'the', 'audience', 'and', 'the', 'heroes.', 'A', 'testament', 'to', 'the', \"actors'\", 'commitment', 'to', 'their', 'roles.', 'While', 'the', 'overarching', 'plot', 'of', 'Avengers:', 'Endgame', 'is', 'ambitious,', 'it', 'occasionally', 'feels', 'overly', 'complex.', 'Some', 'narrative', 'choices', 'may', 'leave', 'viewers', 'scratching', 'their', 'heads,', 'impacting', 'the', 'overall', 'coherence', 'of', 'the', 'story.', 'Despite', 'this,', 'the', \"film's\", 'emotional', 'resonance', 'and', 'stunning', 'visuals', 'make', 'it', 'a', 'worthwhile', 'watch.', 'The', 'twist', 'in', 'Avengers:', \"Endgame's\", 'plot,', 'particularly', 'towards', 'the', 'end,', 'is', 'a', 'masterstroke', 'that', 'elevates', 'the', 'film', 'to', 'new', 'heights.', 'The', 'unexpected', 'turns', 'add', 'a', 'layer', 'of', 'unpredictability,', 'keeping', 'the', 'audience', 'engaged.', 'The', 'resolution', 'of', 'character', 'arcs', 'is', 'satisfying,', 'providing', 'closure', 'to', 'a', 'saga', 'that', 'has', 'spanned', 'multiple', 'films.', 'The', 'visual', 'effects', 'in', 'Avengers:', 'Endgame', 'are', 'a', 'spectacle', 'to', 'behold.', 'The', 'seamless', 'integration', 'of', 'CGI', 'and', 'practical', 'effects', 'creates', 'a', 'visual', 'feast', 'for', 'audiences.', 'The', 'attention', 'to', 'detail', 'in', 'the', 'design', 'of', 'characters,', 'locations,', 'and', 'action', 'sequences', 'contributes', 'to', 'the', \"film's\", 'overall', 'visual', 'excellence.', 'The', 'open-ended', 'nature', 'of', 'Avengers:', \"Endgame's\", 'plot', 'allows', 'for', 'interpretation', 'and', 'speculation.', 'While', 'some', 'may', 'appreciate', 'the', 'ambiguity,', 'others', 'may', 'find', 'it', 'leaves', 'too', 'much', 'unanswered.', 'The', 'film', 'leaves', 'room', 'for', 'potential', 'future', 'developments', 'in', 'the', 'Marvel', 'Cinematic', 'Universe.', 'Avengers:', 'Endgame', 'expertly', 'balances', 'moments', 'of', 'levity', 'and', 'heart-wrenching', 'emotion.', 'The', \"film's\", 'ability', 'to', 'evoke', 'laughter', 'and', 'tears', 'showcases', 'its', 'versatility', 'in', 'storytelling.', 'The', 'emotional', 'depth', 'of', 'the', 'characters', 'is', 'portrayed', 'with', 'authenticity,', 'creating', 'a', 'connection', 'with', 'the', 'audience.', 'The', \"actors'\", 'portrayals', 'in', 'Avengers:', 'Endgame', 'occasionally', 'lack', 'the', 'necessary', 'conviction,', 'affecting', 'the', 'overall', 'impact', 'of', 'certain', 'scenes.', 'While', 'the', 'performances', 'are', 'generally', 'solid,', 'there', 'are', 'instances', 'where', 'the', 'emotional', 'beats', 'could', 'have', 'been', 'more', 'resonant.', 'A', 'minor', 'flaw', 'in', 'an', 'otherwise', 'impressive', 'ensemble', 'cast.', 'Overall,', 'Avengers:', 'Endgame', 'stands', 'as', 'a', 'testament', 'to', 'the', 'culmination', 'of', 'a', 'cinematic', 'journey.', 'The', 'film', 'seamlessly', 'weaves', 'together', 'a', 'narrative', 'that', 'pays', 'homage', 'to', 'its', 'predecessors', 'while', 'forging', 'a', 'new', 'path.', 'The', 'emotional', 'resonance', 'and', 'epic', 'scale', 'make', 'it', 'a', 'fitting', 'conclusion', 'to', 'the', 'Marvel', 'Cinematic', 'Universe.', 'The', 'action', 'sequences', 'in', 'Avengers:', 'Endgame', 'are', 'exceptional,', 'delivering', 'a', 'level', 'of', 'intensity', 'that', 'keeps', 'audiences', 'on', 'the', 'edge', 'of', 'their', 'seats.', 'The', 'culmination', 'of', 'the', 'trilogy', 'is', 'marked', 'by', 'jaw-dropping', 'moments', 'and', 'a', 'sense', 'of', 'grandeur.', 'A', 'must-watch', 'for', 'fans', 'of', 'the', 'superhero', 'genre.', 'Despite', 'its', 'merits,', 'Avengers:', 'Endgame', 'leaves', 'certain', 'plot', 'threads', 'dangling,', 'resulting', 'in', 'an', 'unsatisfying', 'conclusion', 'for', 'some', 'characters.', 'The', 'open-ended', 'nature', 'of', 'certain', 'arcs', 'may', 'leave', 'fans', 'yearning', 'for', 'more', 'closure.', 'However,', 'the', \"film's\", 'strengths', 'lie', 'in', 'its', 'visual', 'spectacle', 'and', 'emotional', 'resonance.', 'The', 'infusion', 'of', 'humor', 'and', 'action', 'in', 'Avengers:', 'Endgame', 'creates', 'a', 'dynamic', 'and', 'entertaining', 'experience.', 'The', 'witty', 'dialogue', 'and', 'comedic', 'moments', 'provide', 'a', 'welcome', 'respite', 'from', 'the', 'intense', 'action', 'sequences.', 'The', 'film', 'strikes', 'a', 'balance', 'between', 'gravity', 'and', 'levity,', 'catering', 'to', 'a', 'diverse', 'audience.', 'The', 'visual', 'effects', 'and', 'animation', 'in', 'Avengers:', 'Endgame', 'are', 'nothing', 'short', 'of', 'awe-inspiring.', 'The', 'level', 'of', 'detail', 'in', 'each', 'frame,', 'especially', 'during', 'action', 'sequences,', 'showcases', 'the', 'dedication', 'of', 'the', 'filmmaking', 'team.', 'A', 'technological', 'marvel', 'that', 'pushes', 'the', 'boundaries', 'of', 'what', 'is', 'achievable', 'in', 'cinema.', 'The', 'cast', 'of', 'Avengers:', 'Endgame', 'delivers', 'commendable', 'performances,', 'bringing', 'depth', 'and', 'authenticity', 'to', 'their', 'characters.', 'The', 'chemistry', 'among', 'the', 'actors', 'enhances', 'the', 'emotional', 'resonance', 'of', 'the', 'film,', 'making', 'the', 'audience', 'invest', 'in', 'the', 'fates', 'of', 'the', 'superheroes.', 'A', 'testament', 'to', 'the', \"ensemble's\", 'acting', 'prowess.', 'While', 'Avengers:', 'Endgame', 'has', 'its', 'moments', 'of', 'brilliance,', 'the', 'balance', 'between', 'thrilling', 'action', 'and', 'a', 'cohesive', 'plot', 'feels', 'somewhat', 'skewed.', 'Some', 'action', 'scenes', 'may', 'overshadow', 'the', 'narrative,', 'impacting', 'the', 'overall', 'pacing.', 'A', 'more', 'harmonious', 'blend', 'would', 'have', 'elevated', 'the', 'film', 'even', 'further.', 'The', 'incorporation', 'of', 'elements', 'from', 'previous', 'films', 'in', 'Avengers:', 'Endgame', 'adds', 'a', 'layer', 'of', 'nostalgia', 'for', 'long-time', 'fans.', 'The', 'callbacks', 'and', 'references', 'create', 'a', 'sense', 'of', 'continuity', 'within', 'the', 'Marvel', 'Cinematic', 'Universe.', 'A', 'treat', 'for', 'those', 'who', 'have', 'followed', 'the', 'franchise', 'from', 'its', 'inception.', 'Avengers:', 'Endgame', 'is', 'a', 'cinematic', 'triumph,', 'seamlessly', 'blending', 'action,', 'emotion,', 'and', 'spectacle.', 'The', 'character', 'arcs', 'are', 'satisfyingly', 'concluded,', 'and', 'the', 'visual', 'effects', 'are', 'nothing', 'short', 'of', 'groundbreaking.', 'While', 'the', \"film's\", 'action', 'sequences', 'are', 'thrilling,', 'some', 'plot', 'twists', 'feel', 'forced,', 'and', 'certain', 'character', 'developments', 'lack', 'depth.', 'Nevertheless,', 'the', 'visual', 'grandeur', 'and', 'emotional', 'resonance', 'make', 'it', 'a', 'memorable', 'entry', 'in', 'the', 'Marvel', 'universe.', 'The', 'intricate', 'plot', 'weaves', 'together', 'multiple', 'timelines,', 'creating', 'a', 'narrative', 'tapestry', 'that', 'keeps', 'the', 'audience', 'engaged.', 'The', 'stellar', 'performances', 'from', 'the', 'cast', 'and', 'the', 'jaw-dropping', 'visuals', 'make', 'Avengers:', 'Endgame', 'an', 'epic', 'conclusion', 'to', 'the', 'saga.', 'Avengers:', 'Endgame', 'delivers', 'on', 'the', 'promise', 'of', 'an', 'emotional', 'rollercoaster.', 'The', 'characters', 'face', 'challenges', 'that', 'push', 'them', 'to', 'their', 'limits,', 'and', 'the', 'film', 'successfully', 'balances', 'humor', 'with', 'heart-wrenching', 'moments.', 'A', 'fitting', 'and', 'visually', 'stunning', 'end', 'to', 'the', 'Marvel', 'Cinematic', \"Universe's\", 'Infinity', 'Saga.', 'While', 'the', 'film', 'provides', 'closure', 'to', 'long-standing', 'storylines,', 'certain', 'character', 'arcs', 'feel', 'rushed', 'and', 'underexplored.', 'The', 'action', 'sequences,', 'however,', 'are', 'a', 'spectacle,', 'with', 'each', 'frame', 'meticulously', 'crafted', 'for', 'maximum', 'impact.', 'Avengers:', 'Endgame', 'is', 'a', 'bittersweet', 'farewell', 'to', 'beloved', 'characters', 'and', 'an', 'era.', 'The', 'emotional', 'depth', 'of', 'Avengers:', 'Endgame', 'is', 'unparalleled', 'in', 'the', 'superhero', 'genre.', 'The', 'film', 'explores', 'themes', 'of', 'loss,', 'sacrifice,', 'and', 'camaraderie,', 'making', 'it', 'a', 'poignant', 'and', 'resonant', 'experience.', 'The', 'exceptional', 'performances', 'from', 'the', 'cast', 'elevate', 'the', 'narrative', 'to', 'new', 'heights.', 'Despite', 'its', 'ambitious', 'narrative,', 'Avengers:', 'Endgame', 'stumbles', 'with', 'pacing', 'issues,', 'leaving', 'some', 'moments', 'feeling', 'rushed.', 'However,', 'the', 'film', 'compensates', 'with', 'breathtaking', 'visuals', 'and', 'epic', 'action', 'sequences,', 'providing', 'a', 'thrilling', 'cinematic', 'experience.', 'The', 'time-travel', 'element', 'adds', 'complexity', 'to', 'the', 'plot,', 'creating', 'an', 'intricate', 'and', 'thought-provoking', 'narrative.', 'Avengers:', 'Endgame', 'manages', 'to', 'deliver', 'both', 'spectacle', 'and', 'substance,', 'with', 'the', \"characters'\", 'emotional', 'journeys', 'taking', 'center', 'stage.', 'A', 'remarkable', 'conclusion', 'to', 'the', 'Marvel', 'Cinematic', 'Universe.', 'Avengers:', \"Endgame's\", 'visual', 'effects', 'are', 'a', 'technological', 'marvel,', 'pushing', 'the', 'boundaries', 'of', 'what', 'can', 'be', 'achieved', 'in', 'cinema.', 'The', \"film's\", 'meticulous', 'attention', 'to', 'detail,', 'especially', 'in', 'the', 'action', 'sequences,', 'showcases', 'the', 'dedication', 'of', 'the', 'filmmaking', 'team.', 'A', 'visual', 'spectacle', 'that', 'leaves', 'a', 'lasting', 'impression.', 'While', 'the', 'film', 'provides', 'closure', 'to', 'some', 'character', 'arcs,', 'certain', 'plot', 'points', 'are', 'left', 'unresolved,', 'leaving', 'room', 'for', 'future', 'exploration.', 'Avengers:', 'Endgame,', 'however,', 'excels', 'in', 'delivering', 'awe-inspiring', 'action', 'and', 'emotional', 'resonance.', 'A', 'bittersweet', 'farewell', 'to', 'an', 'era', 'of', 'superhero', 'storytelling.', 'The', \"film's\", 'action-packed', 'sequences', 'are', 'a', 'visual', 'feast,', 'complemented', 'by', 'a', 'gripping', 'storyline.', 'Avengers:', 'Endgame', 'successfully', 'juggles', 'multiple', 'characters,', 'giving', 'each', 'a', 'moment', 'to', 'shine.', 'A', 'monumental', 'conclusion', 'to', 'the', 'Infinity', 'Saga,', 'filled', 'with', 'twists', 'and', 'turns.', 'Avengers:', \"Endgame's\", 'CGI', 'and', 'practical', 'effects', 'seamlessly', 'blend', 'to', 'create', 'a', 'visually', 'stunning', 'experience.', 'The', \"film's\", 'attention', 'to', 'detail,', 'from', 'character', 'designs', 'to', 'set', 'pieces,', 'is', 'commendable.', 'A', 'cinematic', 'spectacle', 'that', 'pays', 'homage', 'to', 'a', 'decade', 'of', 'Marvel', 'storytelling.', 'While', 'the', \"film's\", 'emotional', 'beats', 'resonate,', 'certain', 'moments', 'may', 'feel', 'forced,', 'impacting', 'the', 'overall', 'authenticity.', 'Nevertheless,', 'Avengers:', 'Endgame', 'delivers', 'on', 'the', 'promise', 'of', 'an', 'epic', 'conclusion,', 'with', 'memorable', 'action', 'sequences', 'and', 'a', 'visually', 'striking', 'finale.', 'The', 'complexity', 'of', 'Avengers:', \"Endgame's\", 'narrative', 'is', 'both', 'its', 'strength', 'and', 'weakness.', 'While', 'some', 'may', 'find', 'the', 'intricate', 'plot', 'engaging,', 'others', 'may', 'feel', 'overwhelmed', 'by', 'its', 'layers.', 'Nonetheless,', 'the', \"film's\", 'emotional', 'impact', 'and', 'breathtaking', 'visuals', 'make', 'it', 'a', 'compelling', 'watch.', 'Avengers:', 'Endgame', 'strikes', 'a', 'balance', 'between', 'humor', 'and', 'heart,', 'with', 'witty', 'dialogue', 'and', 'poignant', 'character', 'moments.', 'The', \"film's\", 'ability', 'to', 'blend', 'lightheartedness', 'with', 'intense', 'action', 'is', 'a', 'testament', 'to', 'its', 'storytelling', 'prowess.', 'A', 'fitting', 'end', 'to', 'a', 'cinematic', 'saga', 'that', 'has', 'captured', 'the', 'hearts', 'of', 'audiences', 'worldwide.', 'While', 'the', 'film', 'attempts', 'to', 'tie', 'up', 'loose', 'ends,', 'certain', 'character', 'resolutions', 'may', 'leave', 'fans', 'divided.', 'Avengers:', 'Endgame,', 'however,', 'excels', 'in', 'delivering', 'epic', 'battles', 'and', 'jaw-dropping', 'visuals.', 'A', 'must-watch', 'for', 'those', 'who', 'have', 'invested', 'in', 'the', 'Marvel', 'Cinematic', 'Universe.', 'The', 'time-travel', 'narrative', 'in', 'Avengers:', 'Endgame', 'adds', 'complexity', 'and', 'depth,', 'offering', 'a', 'fresh', 'take', 'on', 'the', 'superhero', 'genre.', 'The', 'film', 'navigates', 'between', 'various', 'timelines', 'with', 'finesse,', 'creating', 'a', 'cohesive', 'and', 'engaging', 'narrative.', 'A', 'thrilling', 'and', 'emotionally', 'charged', 'conclusion', 'to', 'the', 'Infinity', 'Saga.', 'Avengers:', \"Endgame's\", 'pacing', 'is', 'a', 'triumph,', 'seamlessly', 'transitioning', 'between', 'high-octane', 'action', 'and', 'character-driven', 'moments.', 'The', \"film's\", 'ability', 'to', 'evoke', 'laughter', 'and', 'tears', 'showcases', 'its', 'versatility.', 'A', 'remarkable', 'achievement', 'in', 'cinematic', 'storytelling.', 'While', 'Avengers:', 'Endgame', 'provides', 'closure', 'to', 'some', 'storylines,', 'certain', 'character', 'arcs', 'feel', 'underdeveloped.', 'The', 'film,', 'however,', 'compensates', 'with', 'epic', 'battles', 'and', 'stunning', 'visuals.', 'A', 'rollercoaster', 'of', 'emotions', 'that', 'serves', 'as', 'a', 'fitting', 'end', 'to', 'an', 'era', 'of', 'superhero', 'storytelling.', 'The', 'emotional', 'weight', 'of', 'Avengers:', \"Endgame's\", 'narrative', 'is', 'felt', 'throughout,', 'with', 'character', 'arcs', 'that', 'tug', 'at', 'the', 'heartstrings.', 'The', 'film', 'successfully', 'weaves', 'together', 'humor,', 'action,', 'and', 'poignancy.', 'A', 'cinematic', 'spectacle', 'that', 'pays', 'homage', 'to', 'the', 'journey', 'of', 'iconic', 'characters.', 'Despite', 'a', 'few', 'narrative', 'hiccups,', 'Avengers:', 'Endgame', 'delivers', 'on', 'the', 'promise', 'of', 'an', 'epic', 'conclusion.', 'The', \"film's\", 'visual', 'effects', 'are', 'nothing', 'short', 'of', 'breathtaking,', 'creating', 'a', 'cinematic', 'experience', 'that', 'dazzles.', 'A', 'fitting', 'end', 'to', 'a', 'saga', 'that', 'has', 'defined', 'the', 'superhero', 'genre.', 'The', \"film's\", 'ambitious', 'scope', 'is', 'evident', 'in', 'its', 'grandiose', 'action', 'sequences', 'and', 'intricate', 'plot', 'twists.', 'Avengers:', 'Endgame', 'successfully', 'juggles', 'multiple', 'storylines,', 'providing', 'closure', 'to', 'beloved', 'characters.', 'A', 'visually', 'stunning', 'and', 'emotionally', 'resonant', 'epic', 'that', 'marks', 'the', 'end', 'of', 'an', 'era.', 'While', 'Avengers:', 'Endgame', 'is', 'a', 'visual', 'spectacle,', 'certain', 'plot', 'twists', 'may', 'feel', 'predictable', 'to', 'keen-eyed', 'viewers.', 'Nevertheless,', 'the', 'film', 'delivers', 'on', 'emotional', 'resonance', 'and', 'epic', 'action', 'sequences.', 'A', 'bittersweet', 'farewell', 'to', 'characters', 'who', 'have', 'become', 'cultural', 'icons.', 'The', 'time-travel', 'narrative', 'of', 'Avengers:', 'Endgame', 'introduces', 'an', 'intriguing', 'complexity', 'to', 'the', 'plot.', 'The', 'film', 'manages', 'to', 'balance', 'multiple', 'timelines', 'while', 'keeping', 'the', 'audience', 'engaged.', 'A', 'satisfying', 'and', 'visually', 'impressive', 'conclusion', 'to', 'the', 'Marvel', 'Cinematic', \"Universe's\", 'Infinity', 'Saga.', 'Avengers:', \"Endgame's\", 'action', 'sequences', 'are', 'a', 'feast', 'for', 'the', 'eyes,', 'with', 'every', 'punch', 'and', 'explosion', 'meticulously', 'choreographed.', 'The', \"film's\", 'attention', 'to', 'detail,', 'especially', 'in', 'the', 'visual', 'effects,', 'elevates', 'the', 'viewing', 'experience.', 'A', 'thrilling', 'and', 'visually', 'stunning', 'conclusion', 'to', 'the', 'Marvel', 'Cinematic', 'Universe.', 'While', 'the', 'film', 'delivers', 'on', 'emotional', 'beats,', 'certain', 'character', 'resolutions', 'may', 'feel', 'rushed.', 'Avengers:', 'Endgame,', 'however,', 'excels', 'in', 'creating', 'epic', 'and', 'memorable', 'action', 'sequences.', 'A', 'rollercoaster', 'of', 'emotions', 'that', 'serves', 'as', 'a', 'fitting', 'end', 'to', 'the', 'Infinity', 'Saga.', 'The', \"film's\", 'intricate', 'plot', 'adds', 'layers', 'of', 'complexity,', 'providing', 'a', 'fresh', 'take', 'on', 'superhero', 'storytelling.', 'Avengers:', 'Endgame', 'seamlessly', 'weaves', 'together', 'various', 'storylines,', 'creating', 'a', 'narrative', 'tapestry', 'that', 'captivates.', 'A', 'visually', 'striking', 'and', 'emotionally', 'charged', 'conclusion', 'to', 'a', 'cinematic', 'era.', 'Avengers:', \"Endgame's\", 'CGI', 'and', 'practical', 'effects', 'work', 'in', 'harmony,', 'creating', 'a', 'visually', 'stunning', 'cinematic', 'experience.', 'The', 'attention', 'to', 'detail', 'in', 'the', 'visual', 'effects', 'enhances', 'the', \"film's\", 'overall', 'impact.', 'A', 'testament', 'to', 'the', 'technological', 'achievements', 'in', 'modern', 'filmmaking.', 'While', 'Avengers:', 'Endgame', 'attempts', 'to', 'provide', 'closure', 'to', 'long-standing', 'storylines,', 'some', 'resolutions', 'may', 'feel', 'rushed.', 'The', 'film,', 'however,', 'compensates', 'with', 'epic', 'battles', 'and', 'visually', 'stunning', 'set', 'pieces.', 'A', 'rollercoaster', 'of', 'emotions', 'that', 'marks', 'the', 'end', 'of', 'a', 'remarkable', 'era', 'in', 'superhero', 'filmmaking.', 'The', 'emotional', 'depth', 'of', 'Avengers:', \"Endgame's\", 'narrative', 'is', 'a', 'standout', 'feature,', 'with', 'characters', 'facing', 'profound', 'challenges.', 'The', \"film's\", 'ability', 'to', 'balance', 'intense', 'action', 'with', 'poignant', 'moments', 'is', 'commendable.', 'A', 'fitting', 'and', 'emotionally', 'resonant', 'conclusion', 'to', 'the', 'Marvel', 'Cinematic', 'Universe.', 'The', \"film's\", 'pacing', 'is', 'a', 'testament', 'to', 'its', 'storytelling', 'finesse,', 'seamlessly', 'transitioning', 'between', 'action-packed', 'sequences', 'and', 'character-driven', 'moments.', 'Avengers:', \"Endgame's\", 'ability', 'to', 'evoke', 'a', 'wide', 'range', 'of', 'emotions', 'showcases', 'its', 'narrative', 'depth.', 'A', 'cinematic', 'triumph', 'that', 'serves', 'as', 'a', 'fitting', 'end', 'to', 'a', 'beloved', 'saga.', 'Masterpiece', 'Spectacular', 'Emotional', 'Epic', 'Thrilling', 'Compelling', 'Underwhelming', 'Touching', 'Mesmerizing', 'Flat', 'Exhilarating', 'Impressive', 'Inconsistent', 'Breathtaking', 'Outstanding', 'Surprising', 'Unsatisfying', 'Moving', 'Incredible', 'Great', 'Overwhelming', 'Confusing', 'Captivating', 'Top-notch', 'Disappointing', 'Challenging', 'Intense', 'Missed', 'Entertaining', 'Over-the-top', 'Twist', 'Striking', 'Ordinary', 'Amazing', 'Engaging', 'Unconvincing', 'Enriching', 'Impactful', 'Reintroduces', 'Action-packed', 'Emotionally', 'powerful', 'Satisfying', 'conclusion', 'Epic', 'journey', 'Visually', 'stunning', 'Intricate', 'plot', 'Unexpected', 'twists', 'Underwhelming', 'moments', 'Character', 'depth', 'Breathtaking', 'visuals', 'Flat', 'narrative', 'Highly', 'engaging', 'Impressive', 'effects', 'Inconsistent', 'pacing', 'Compelling', 'story', 'Outstanding', 'performances', 'Weak', 'characterizations', 'Great', 'watch', 'Overwhelming', 'action', 'Confusing', 'twists', 'Captivating', 'storytelling', 'Top-notch', 'effects', 'Disappointing', 'resolution', 'Challenging', 'narrative', 'Intense', 'sequences', 'Impressive', 'visuals', 'Missed', 'opportunity', 'Entertaining', 'blend', 'Over-the-top', 'moments', 'Plot', 'twist', 'Striking', 'visuals', 'Ordinary', 'plot', 'Amazing', 'action', 'Emotionally', 'resonant', 'Complex', 'narrative', 'Unconvincing', 'acting', 'Enriching', 'storyline', 'Impactful', 'moments', 'Intriguing', 'twists', 'Moving', 'scenes', 'Weak', 'climax', 'Reintroduces', 'elements', 'Unexpected', 'turns', 'Spectacular', 'effects', 'Masterful', 'storytelling', 'Epic', 'conclusion', 'to', 'Marvel', 'saga', 'Emotional', 'rollercoaster', 'with', 'heroes', 'Spectacular', 'visuals', 'and', 'storytelling', 'Thrilling', 'action,', 'satisfying', 'character', 'arcs', 'Visually', 'stunning,', 'emotionally', 'resonant', 'journey', 'Compelling', 'story,', 'outstanding', 'performances', 'Intricate', 'plot,', 'unexpected', 'twists', 'Underwhelming', 'moments,', 'weak', 'characterizations', 'Breathtaking', 'visuals,', 'engaging', 'narrative', 'Top-notch', 'effects,', 'captivating', 'storytelling']\n"
     ]
    }
   ],
   "source": [
    "# Vocab size\n",
    "all_words = \" \".join(english_df[\"Review\"]).split()  # Split all reviews into words\n",
    "word_counts = Counter(all_words)  # Count word frequencies\n",
    "vocab = sorted(word_counts.keys())  # Sorted list of unique words\n",
    "\n",
    "# Assign indices to words (0: padding, 1: unknown/OOV)\n",
    "word_to_idx = {word: idx + 2 for idx, word in enumerate(vocab)}\n",
    "word_to_idx[\"<PAD>\"] = 0  # Padding token\n",
    "word_to_idx[\"<UNK>\"] = 1  # Unknown words\n",
    "\n",
    "# Print vocabulary size and number of words\n",
    "print(f\"Vocabulary size: {len(vocab)}\")\n",
    "print(f\"Number of words: {len(all_words)}\")\n",
    "\n",
    "print(all_words)"
   ]
  },
  {
   "cell_type": "code",
   "execution_count": 12,
   "id": "37370a2b",
   "metadata": {},
   "outputs": [
    {
     "name": "stdout",
     "output_type": "stream",
     "text": [
      "Optimal max_len: 44\n"
     ]
    }
   ],
   "source": [
    "# Calculate lengths of all reviews (in words)\n",
    "review_lengths = english_df[\"Review\"].apply(lambda x: len(x.split()))\n",
    "\n",
    "# Set max_len to cover 90% of reviews (or use median)\n",
    "max_len = int(np.percentile(review_lengths, 90))  # Adjust percentile as needed\n",
    "print(f\"Optimal max_len: {max_len}\")"
   ]
  },
  {
   "cell_type": "code",
   "execution_count": 13,
   "id": "1bce93fe",
   "metadata": {},
   "outputs": [],
   "source": [
    "# Split data into train and test sets\n",
    "X = english_df[\"Review\"].values\n",
    "y_labels = english_df[\"Sentiment\"].values\n",
    "\n",
    "X_train, X_test, y_train, y_test = train_test_split(\n",
    "  X, y_labels, test_size=0.2, random_state=42, stratify=y_labels\n",
    ")"
   ]
  },
  {
   "cell_type": "markdown",
   "id": "a06f1689",
   "metadata": {},
   "source": [
    "### Train the model"
   ]
  },
  {
   "cell_type": "code",
   "execution_count": 14,
   "id": "5915e769",
   "metadata": {},
   "outputs": [],
   "source": [
    "# Tokenize and pad the text data\n",
    "tokenizer = Tokenizer(num_words=len(vocab) + 2, oov_token=\"<UNK>\")\n",
    "tokenizer.word_index = word_to_idx  # Use the same word_to_idx mapping\n",
    "\n",
    "X_train_seq = tokenizer.texts_to_sequences(X_train)\n",
    "X_test_seq = tokenizer.texts_to_sequences(X_test)\n",
    "\n",
    "X_train_pad = pad_sequences(X_train_seq, maxlen=max_len, padding=\"post\")\n",
    "X_test_pad = pad_sequences(X_test_seq, maxlen=max_len, padding=\"post\")"
   ]
  },
  {
   "cell_type": "code",
   "execution_count": 15,
   "id": "e745bfa2",
   "metadata": {},
   "outputs": [],
   "source": [
    "# Convert string labels to one-hot encoding\n",
    "# Map labels to integers: Negative=0, Positive=1\n",
    "label_map = {\"Negative\": 0, \"Positive\": 1}\n",
    "y_train_int = np.array([label_map[label] for label in y_train])\n",
    "y_test_int = np.array([label_map[label] for label in y_test])\n",
    "\n",
    "# One-hot encode\n",
    "y_train_bin = to_categorical(y_train_int, num_classes=2)\n",
    "y_test_bin = to_categorical(y_test_int, num_classes=2)"
   ]
  },
  {
   "cell_type": "code",
   "execution_count": 16,
   "id": "6d7c5c11",
   "metadata": {},
   "outputs": [
    {
     "name": "stdout",
     "output_type": "stream",
     "text": [
      "Epoch 1/50\n",
      "7/7 [==============================] - 4s 97ms/step - loss: 1.7091 - accuracy: 0.5540 - val_loss: 1.6732 - val_accuracy: 0.6852 - lr: 5.0000e-04\n",
      "Epoch 2/50\n",
      "7/7 [==============================] - 0s 15ms/step - loss: 1.6538 - accuracy: 0.5915 - val_loss: 1.6227 - val_accuracy: 0.7037 - lr: 5.0000e-04\n",
      "Epoch 3/50\n",
      "7/7 [==============================] - 0s 15ms/step - loss: 1.6031 - accuracy: 0.5822 - val_loss: 1.5734 - val_accuracy: 0.6296 - lr: 5.0000e-04\n",
      "Epoch 4/50\n",
      "7/7 [==============================] - 0s 15ms/step - loss: 1.5510 - accuracy: 0.6291 - val_loss: 1.5263 - val_accuracy: 0.5741 - lr: 5.0000e-04\n",
      "Epoch 5/50\n",
      "7/7 [==============================] - 0s 15ms/step - loss: 1.5067 - accuracy: 0.5775 - val_loss: 1.4795 - val_accuracy: 0.6111 - lr: 5.0000e-04\n",
      "Epoch 6/50\n",
      "7/7 [==============================] - 0s 16ms/step - loss: 1.4592 - accuracy: 0.5634 - val_loss: 1.4379 - val_accuracy: 0.5556 - lr: 5.0000e-04\n",
      "Epoch 7/50\n",
      "7/7 [==============================] - 0s 15ms/step - loss: 1.4136 - accuracy: 0.7371 - val_loss: 1.3936 - val_accuracy: 0.6667 - lr: 5.0000e-04\n",
      "Epoch 8/50\n",
      "7/7 [==============================] - 0s 15ms/step - loss: 1.3722 - accuracy: 0.7089 - val_loss: 1.3546 - val_accuracy: 0.7037 - lr: 5.0000e-04\n",
      "Epoch 9/50\n",
      "7/7 [==============================] - 0s 15ms/step - loss: 1.3350 - accuracy: 0.7183 - val_loss: 1.3156 - val_accuracy: 0.7593 - lr: 5.0000e-04\n",
      "Epoch 10/50\n",
      "7/7 [==============================] - 0s 13ms/step - loss: 1.2969 - accuracy: 0.7324 - val_loss: 1.2800 - val_accuracy: 0.7222 - lr: 5.0000e-04\n",
      "Epoch 11/50\n",
      "7/7 [==============================] - 0s 15ms/step - loss: 1.2617 - accuracy: 0.7981 - val_loss: 1.2430 - val_accuracy: 0.7593 - lr: 5.0000e-04\n",
      "Epoch 12/50\n",
      "7/7 [==============================] - 0s 18ms/step - loss: 1.2263 - accuracy: 0.7606 - val_loss: 1.2089 - val_accuracy: 0.7407 - lr: 5.0000e-04\n",
      "Epoch 13/50\n",
      "7/7 [==============================] - 0s 16ms/step - loss: 1.1911 - accuracy: 0.7512 - val_loss: 1.1803 - val_accuracy: 0.6481 - lr: 5.0000e-04\n",
      "Epoch 14/50\n",
      "7/7 [==============================] - 0s 15ms/step - loss: 1.1535 - accuracy: 0.7324 - val_loss: 1.1470 - val_accuracy: 0.6667 - lr: 5.0000e-04\n",
      "Epoch 15/50\n",
      "7/7 [==============================] - 0s 17ms/step - loss: 1.1149 - accuracy: 0.6714 - val_loss: 1.1150 - val_accuracy: 0.5926 - lr: 5.0000e-04\n",
      "Epoch 16/50\n",
      "7/7 [==============================] - 0s 15ms/step - loss: 1.0846 - accuracy: 0.4742 - val_loss: 1.0736 - val_accuracy: 0.5741 - lr: 5.0000e-04\n",
      "Epoch 17/50\n",
      "7/7 [==============================] - 0s 18ms/step - loss: 1.0305 - accuracy: 0.6479 - val_loss: 0.9670 - val_accuracy: 0.7593 - lr: 5.0000e-04\n",
      "Epoch 18/50\n",
      "7/7 [==============================] - 0s 15ms/step - loss: 0.9885 - accuracy: 0.7840 - val_loss: 0.9398 - val_accuracy: 0.7222 - lr: 5.0000e-04\n",
      "Epoch 19/50\n",
      "7/7 [==============================] - 0s 15ms/step - loss: 0.9299 - accuracy: 0.6714 - val_loss: 0.9470 - val_accuracy: 0.5741 - lr: 5.0000e-04\n",
      "Epoch 20/50\n",
      "7/7 [==============================] - 0s 14ms/step - loss: 0.8835 - accuracy: 0.6714 - val_loss: 0.8183 - val_accuracy: 0.8333 - lr: 5.0000e-04\n",
      "Epoch 21/50\n",
      "7/7 [==============================] - 0s 16ms/step - loss: 0.8595 - accuracy: 0.8545 - val_loss: 0.8856 - val_accuracy: 0.6111 - lr: 5.0000e-04\n",
      "Epoch 22/50\n",
      "7/7 [==============================] - 0s 13ms/step - loss: 0.8360 - accuracy: 0.6150 - val_loss: 0.9183 - val_accuracy: 0.5741 - lr: 5.0000e-04\n",
      "Epoch 23/50\n",
      "7/7 [==============================] - 0s 14ms/step - loss: 0.8257 - accuracy: 0.5775 - val_loss: 0.9009 - val_accuracy: 0.6111 - lr: 1.0000e-04\n"
     ]
    }
   ],
   "source": [
    "# Add EarlyStopping callback\n",
    "early_stop = EarlyStopping(monitor='val_loss', patience=3, restore_best_weights=True)\n",
    "\n",
    "# Add ModelCheckpoint callback to save the best model\n",
    "model_checkpoint = ModelCheckpoint(\n",
    "    'classification_model.h5', monitor='val_loss', save_best_only=True, mode='min'\n",
    ")\n",
    "\n",
    "# Add Learning Rate Scheduling\n",
    "reduce_lr = ReduceLROnPlateau(monitor=\"val_loss\", factor=0.2, patience=2, min_lr=0.0001)\n",
    "\n",
    "# Model architecture\n",
    "base_model = Sequential(\n",
    "    [\n",
    "        Embedding(input_dim=len(vocab) + 2, output_dim=32, input_length=max_len),\n",
    "        Dropout(0.3),\n",
    "        Bidirectional(LSTM(32, kernel_regularizer=l2(0.01))),\n",
    "        Dropout(0.5),\n",
    "        Dense(2, activation=\"sigmoid\"),\n",
    "    ]\n",
    ")\n",
    "\n",
    "base_model.compile(\n",
    "    optimizer=Adam(learning_rate=0.0005),  # or even 0.0001\n",
    "    loss=\"categorical_crossentropy\",\n",
    "    metrics=[\"accuracy\"],\n",
    ")\n",
    "\n",
    "# Train with class weights and early stopping\n",
    "history = base_model.fit(\n",
    "    X_train_pad,\n",
    "    y_train_bin,\n",
    "    validation_data=(X_test_pad, y_test_bin),\n",
    "    epochs=50,\n",
    "    batch_size=32,\n",
    "    class_weight=class_weight_dict,\n",
    "    callbacks=[early_stop, reduce_lr, model_checkpoint]\n",
    ")"
   ]
  },
  {
   "cell_type": "code",
   "execution_count": 17,
   "id": "2ef7176a",
   "metadata": {},
   "outputs": [
    {
     "data": {
      "image/png": "[encoded data removed]",
      "text/plain": [
       "<Figure size 1200x500 with 2 Axes>"
      ]
     },
     "metadata": {},
     "output_type": "display_data"
    }
   ],
   "source": [
    "# Plot training & validation accuracy and loss values\n",
    "plt.figure(figsize=(12, 5))\n",
    "\n",
    "# Accuracy plot\n",
    "plt.subplot(1, 2, 1)\n",
    "plt.plot(history.history['accuracy'], label='Train Accuracy')\n",
    "plt.plot(history.history['val_accuracy'], label='Val Accuracy')\n",
    "plt.title('Base Model Accuracy')\n",
    "plt.xlabel('Epoch')\n",
    "plt.ylabel('Accuracy')\n",
    "plt.legend()\n",
    "\n",
    "# Loss plot\n",
    "plt.subplot(1, 2, 2)\n",
    "plt.plot(history.history['loss'], label='Train Loss')\n",
    "plt.plot(history.history['val_loss'], label='Val Loss')\n",
    "plt.title('Base Model Loss')\n",
    "plt.xlabel('Epoch')\n",
    "plt.ylabel('Loss')\n",
    "plt.legend()\n",
    "\n",
    "plt.tight_layout()\n",
    "plt.show()"
   ]
  },
  {
   "cell_type": "code",
   "execution_count": 18,
   "id": "9f27c94b",
   "metadata": {},
   "outputs": [
    {
     "name": "stdout",
     "output_type": "stream",
     "text": [
      "2/2 [==============================] - 0s 4ms/step\n",
      "              precision    recall  f1-score   support\n",
      "\n",
      "    Negative       0.70      0.54      0.61        13\n",
      "    Positive       0.86      0.93      0.89        41\n",
      "\n",
      "    accuracy                           0.83        54\n",
      "   macro avg       0.78      0.73      0.75        54\n",
      "weighted avg       0.82      0.83      0.83        54\n",
      "\n"
     ]
    }
   ],
   "source": [
    "# Predict class probabilities and get predicted labels\n",
    "y_pred_prob = base_model.predict(X_test_pad)\n",
    "y_pred = np.argmax(y_pred_prob, axis=1)\n",
    "y_true = np.argmax(y_test_bin, axis=1)\n",
    "\n",
    "# Print classification report\n",
    "print(classification_report(y_true, y_pred, target_names=[\"Negative\", \"Positive\"]))"
   ]
  },
  {
   "cell_type": "code",
   "execution_count": 19,
   "id": "b572fbea",
   "metadata": {},
   "outputs": [
    {
     "data": {
      "image/png": "[encoded data removed]",
      "text/plain": [
       "<Figure size 500x400 with 2 Axes>"
      ]
     },
     "metadata": {},
     "output_type": "display_data"
    }
   ],
   "source": [
    "# Plot confusion matrix for classification results\n",
    "cm = confusion_matrix(y_true, y_pred)\n",
    "plt.figure(figsize=(5, 4))\n",
    "sns.heatmap(cm, annot=True, fmt=\"d\", cmap=\"Blues\", xticklabels=[\"Negative\", \"Positive\"], yticklabels=[\"Negative\", \"Positive\"])\n",
    "plt.xlabel(\"Predicted Label\")\n",
    "plt.ylabel(\"True Label\")\n",
    "plt.title(\"Confusion Matrix\")\n",
    "plt.show()"
   ]
  },
  {
   "cell_type": "markdown",
   "id": "846faa73",
   "metadata": {},
   "source": [
    "## Regression Model"
   ]
  },
  {
   "cell_type": "markdown",
   "id": "34c442d1",
   "metadata": {},
   "source": [
    "### Data Preparation (Regression Specific)"
   ]
  },
  {
   "cell_type": "code",
   "execution_count": 20,
   "id": "d165e3d5",
   "metadata": {},
   "outputs": [],
   "source": [
    "# Keep only rows where Language is 'English' or 'Malay'\n",
    "df = df[df['Language'].isin(['English', 'Malay'])].reset_index(drop=True)"
   ]
  },
  {
   "cell_type": "code",
   "execution_count": 21,
   "id": "58295437",
   "metadata": {},
   "outputs": [
    {
     "data": {
      "application/vnd.microsoft.datawrangler.viewer.v0+json": {
       "columns": [
        {
         "name": "index",
         "rawType": "int64",
         "type": "integer"
        },
        {
         "name": "Review",
         "rawType": "object",
         "type": "string"
        },
        {
         "name": "Score",
         "rawType": "float64",
         "type": "float"
        },
        {
         "name": "Language",
         "rawType": "object",
         "type": "string"
        },
        {
         "name": "Translated_Review",
         "rawType": "object",
         "type": "unknown"
        }
       ],
       "ref": "07c08ce7-851e-4a9b-b94d-0521262ed771",
       "rows": [
        [
         "0",
         "Sayang sekali, pelakon tidak memberikan persembahan terbaik. Kurang puas hati.",
         "0.2",
         "Malay",
         "Unfortunately, the actor didn't give the best performance. Disappointed."
        ],
        [
         "1",
         "Jalan cerita yang kompleks dan penuh emosi. Sungguh menghiburkan!",
         "0.8",
         "Malay",
         "Complex and emotional storyline. So entertaining!"
        ],
        [
         "2",
         "Pembuat filem berjaya memberikan pengalaman yang tidak terlupakan. Sungguh memukau!",
         "0.95",
         "Malay",
         "The filmmaker succeeded in providing an unforgettable experience. It's amazing!"
        ],
        [
         "3",
         "Adegan aksi yang terlalu banyak dan mengejutkan. Terkadang agak terlalu banyak.",
         "0.6",
         "Malay",
         "Excessive and shocking action scenes. Sometimes it's too much."
        ],
        [
         "4",
         "Saya teruja sepanjang filem. Penceritaan yang menarik!",
         "0.85",
         "Malay",
         "I'm excited throughout the movie. Interesting storytelling!"
        ],
        [
         "5",
         "Avengers: Endgame mengecewakan dan membosankan. Terlalu banyak klise.",
         "0.15",
         "Malay",
         "Avengers: Endgame is frustrating and boring. Too many clichings."
        ],
        [
         "6",
         "Integrasi elemen fiksyen sains sangat menarik. Saya suka!",
         "0.75",
         "Malay",
         "The integration of science fiction elements is very interesting. I love it!"
        ],
        [
         "7",
         "Filem ini mengujakan dengan nuansa emosi yang mendalam.",
         "0.88",
         "Malay",
         "The movie is exciting with a deep emotional nuance."
        ],
        [
         "8",
         "Secara keseluruhan, pengalaman sinematik yang luar biasa. Saya kagum!",
         "0.92",
         "Malay",
         "Overall, an incredible cinematic experience. I'm amazed!"
        ],
        [
         "9",
         "Saya kira filem ini tidak sehebat yang diperkatakan. Rasa kurang puas hati.",
         "0.3",
         "Malay",
         "I think this movie is not as good as it says. Feeling dissatisfied."
        ],
        [
         "10",
         "Aksi yang menakjubkan dan plot yang penuh kejutan. Saya kagum!",
         "0.88",
         "Malay",
         "Stunning acts and shocking plots. I'm amazed!"
        ],
        [
         "11",
         "Kualiti visual filem ini sungguh mengagumkan. Saya teruja!",
         "0.85",
         "Malay",
         "The visual quality of this movie is amazing. I'm excited!"
        ],
        [
         "12",
         "Saya kurang suka cara pelakon utama menyampaikan dialog. Kurang menyakinkan.",
         "0.25",
         "Malay",
         "I don't like the way the main actors deliver the dialogue. Less convincing."
        ],
        [
         "13",
         "Jalan cerita yang rumit tetapi sangat menarik. Saya suka!",
         "0.8",
         "Malay",
         "The storyline is complicated but very interesting. I love it!"
        ],
        [
         "14",
         "Adegan aksi yang terlalu dramatik dan berlebihan. Tidak realistik.",
         "0.4",
         "Malay",
         "Action scenes are too dramatic and excessive. Unrealistic."
        ],
        [
         "15",
         "Filem ini benar-benar membuat saya terbawa suasana. Saya kagum dengan keseluruhan produksi.",
         "0.9",
         "Malay",
         "This movie really made me live in the atmosphere. I was impressed with the whole production."
        ],
        [
         "16",
         "Pelakon memberikan persembahan yang hebat. Saya suka cerita ini!",
         "0.85",
         "Malay",
         "The actor gives a great performance. I love this story!"
        ],
        [
         "17",
         "Saya tidak faham dengan plot filem ini. Terlalu kompleks.",
         "0.3",
         "Malay",
         "I don't understand the plot of this movie. Too complex."
        ],
        [
         "18",
         "Kejutan besar dalam plot! Aksi yang memukau sepanjang filem.",
         "0.9",
         "Malay",
         "Great surprise in the plot! Stunning action throughout the movie."
        ],
        [
         "19",
         "Visual effects hebat tetapi plot kurang menarik. Saya rasa bosan.",
         "0.4",
         "Malay",
         "Visual Effects is great but the plot is less attractive. I feel bored."
        ],
        [
         "20",
         "Adegan aksi yang luar biasa. Saya rasa teruja sepanjang masa.",
         "0.88",
         "Malay",
         "Extraordinary action scenes. I feel excited all the time."
        ],
        [
         "21",
         "Sayang sekali, plot filem ini terlalu terbuka. Tidak ada penyelesaian yang memuaskan.",
         "0.3",
         "Malay",
         "Unfortunately, the plot of this movie is too open. There is no satisfactory solution."
        ],
        [
         "22",
         "Saya suka cara filem ini menggabungkan komedi dengan aksi. Sangat menghiburkan.",
         "0.85",
         "Malay",
         "I like the way this movie combines comedy with action. Very entertaining."
        ],
        [
         "23",
         "Kualiti visual dan efek khas filem ini luar biasa. Saya terkesan!",
         "0.9",
         "Malay",
         "The visual quality and special effects of this movie are incredible. I'm impressed!"
        ],
        [
         "24",
         "Pelakon memberikan persembahan yang sangat baik. Saya suka jalan ceritanya.",
         "0.85",
         "Malay",
         "The actor gives a very good performance. I love the story."
        ],
        [
         "25",
         "Filem ini sangat mengecewakan. Tidak sepadan dengan hype.",
         "0.2",
         "Malay",
         "This movie is very frustrating. Does not match hype."
        ],
        [
         "26",
         "Plot yang rumit tetapi menarik. Adegan akhir yang epik!",
         "0.9",
         "Malay",
         "The plot is complicated but interesting. Epic final scene!"
        ],
        [
         "27",
         "Adegan aksi yang terlalu berlebihan. Terlalu banyak efek khas.",
         "0.4",
         "Malay",
         "Excessive action scenes. There are too many special effects."
        ],
        [
         "28",
         "Saya tidak faham dengan twist dalam plot. Sedikit keliru.",
         "0.3",
         "Malay",
         "I don't understand the twist in the plot. A little confused."
        ],
        [
         "29",
         "Filem ini benar-benar menggetarkan perasaan. Saya suka sekali!",
         "0.88",
         "Malay",
         "This movie really shakes feelings. I love you so much!"
        ],
        [
         "30",
         "Visual effects filem ini luar biasa. Teruja dengan kehebatan teknikal.",
         "0.9",
         "Malay",
         "Visual Effects This movie is incredible. Excited by the technical power."
        ],
        [
         "31",
         "Kurangnya pengembangan watak membuatkan filem ini lemah. Tidak memuaskan.",
         "0.25",
         "Malay",
         "The lack of character development makes this movie weak. Unsatisfactory."
        ],
        [
         "32",
         "Saya teruja dengan cara filem ini menggabungkan elemen fiksyen sains.",
         "0.8",
         "Malay",
         "I'm excited about the way this movie combines science fiction elements."
        ],
        [
         "33",
         "Plot yang menarik dan penuh kejutan. Saya suka twist dalam cerita.",
         "0.85",
         "Malay",
         "An attractive and shocking plot. I like the twist in the story."
        ],
        [
         "34",
         "Filem ini mempunyai kekuatan emosional yang besar. Menyentuh hati!",
         "0.88",
         "Malay",
         "The movie has great emotional strength. Heartbeat!"
        ],
        [
         "35",
         "Pelakon memberikan persembahan yang tidak memuaskan. Tidak kredibel.",
         "0.25",
         "Malay",
         "The actor gives an unsatisfactory performance. Not credible."
        ],
        [
         "36",
         "Jalan cerita yang agak biasa tetapi dihidupkan dengan aksi yang hebat.",
         "0.75",
         "Malay",
         "The storyline is quite common but is turned on with great action."
        ],
        [
         "37",
         "Adegan akhir yang sangat epik! Saya teruja dengan penutupan trilogi ini.",
         "0.92",
         "Malay",
         "A very epic final scene! I'm excited by the closure of this trilogy."
        ],
        [
         "38",
         "Filem ini hebat! Saya suka dengan pengembangan watak.",
         "0.9",
         "Malay",
         "This movie is great! I love the development of character."
        ],
        [
         "39",
         "Saya tidak suka dengan jalan cerita yang terlalu kompleks. Tidak dapat diikuti.",
         "0.3",
         "Malay",
         "I don't like the storyline too complex. Cannot be followed."
        ],
        [
         "40",
         "Sangat gembira dengan filem ini. Aksi yang mengagumkan!",
         "0.88",
         "Malay",
         "Very happy with this movie. What a wonderful action!"
        ],
        [
         "41",
         "Plot yang rumit tetapi sangat menarik. Kejutan besar di penghujung!",
         "0.92",
         "Malay",
         "The plot is complicated but very interesting. Great surprise at the end!"
        ],
        [
         "42",
         "Visual effects filem ini benar-benar luar biasa. Saya terkesan!",
         "0.9",
         "Malay",
         "Visual effects of this movie is really amazing. I'm impressed!"
        ],
        [
         "43",
         "Perasaan yang mendalam dalam filem ini membuatkan saya terharu. Saya suka!",
         "0.88",
         "Malay",
         "The deep feeling in this movie made me touch. I love it!"
        ],
        [
         "44",
         "Kurangnya ketegangan dalam plot membuatkan saya bosan. Tidak ada elemen kejutan.",
         "0.3",
         "Malay",
         "The lack of tension in the plot made me bored. There is no surprise element."
        ],
        [
         "45",
         "Filem ini memberikan jawapan kepada banyak pertanyaan. Saya suka twistnya.",
         "0.85",
         "Malay",
         "This movie answers many questions. I like the twist."
        ],
        [
         "46",
         "Kejutan besar di tengah-tengah filem! Aksi yang mendebarkan!",
         "0.88",
         "Malay",
         "A big surprise in the middle of the movie! Thrilling action!"
        ],
        [
         "47",
         "Visual effects dan animasi filem ini sungguh mengagumkan. Terkesan!",
         "0.9",
         "Malay",
         "Visual Effects and the animation of this movie are amazing. Impressed!"
        ],
        [
         "48",
         "Pelakon memberikan persembahan yang sangat baik. Saya suka dengan penutupan ceritanya.",
         "0.88",
         "Malay",
         "The actor gives a very good performance. I love the closure of the story."
        ],
        [
         "49",
         "Filem ini tidak sehebat yang saya jangkakan. Terlalu banyak klise.",
         "0.3",
         "Malay",
         "This movie is not as great as I expect. Too many clichings."
        ]
       ],
       "shape": {
        "columns": 4,
        "rows": 391
       }
      },
      "text/html": [
       "<div>\n",
       "<style scoped>\n",
       "    .dataframe tbody tr th:only-of-type {\n",
       "        vertical-align: middle;\n",
       "    }\n",
       "\n",
       "    .dataframe tbody tr th {\n",
       "        vertical-align: top;\n",
       "    }\n",
       "\n",
       "    .dataframe thead th {\n",
       "        text-align: right;\n",
       "    }\n",
       "</style>\n",
       "<table border=\"1\" class=\"dataframe\">\n",
       "  <thead>\n",
       "    <tr style=\"text-align: right;\">\n",
       "      <th></th>\n",
       "      <th>Review</th>\n",
       "      <th>Score</th>\n",
       "      <th>Language</th>\n",
       "      <th>Translated_Review</th>\n",
       "    </tr>\n",
       "  </thead>\n",
       "  <tbody>\n",
       "    <tr>\n",
       "      <th>0</th>\n",
       "      <td>Sayang sekali, pelakon tidak memberikan persem...</td>\n",
       "      <td>0.20</td>\n",
       "      <td>Malay</td>\n",
       "      <td>Unfortunately, the actor didn't give the best ...</td>\n",
       "    </tr>\n",
       "    <tr>\n",
       "      <th>1</th>\n",
       "      <td>Jalan cerita yang kompleks dan penuh emosi. Su...</td>\n",
       "      <td>0.80</td>\n",
       "      <td>Malay</td>\n",
       "      <td>Complex and emotional storyline. So entertaining!</td>\n",
       "    </tr>\n",
       "    <tr>\n",
       "      <th>2</th>\n",
       "      <td>Pembuat filem berjaya memberikan pengalaman ya...</td>\n",
       "      <td>0.95</td>\n",
       "      <td>Malay</td>\n",
       "      <td>The filmmaker succeeded in providing an unforg...</td>\n",
       "    </tr>\n",
       "    <tr>\n",
       "      <th>3</th>\n",
       "      <td>Adegan aksi yang terlalu banyak dan mengejutka...</td>\n",
       "      <td>0.60</td>\n",
       "      <td>Malay</td>\n",
       "      <td>Excessive and shocking action scenes. Sometime...</td>\n",
       "    </tr>\n",
       "    <tr>\n",
       "      <th>4</th>\n",
       "      <td>Saya teruja sepanjang filem. Penceritaan yang ...</td>\n",
       "      <td>0.85</td>\n",
       "      <td>Malay</td>\n",
       "      <td>I'm excited throughout the movie. Interesting ...</td>\n",
       "    </tr>\n",
       "    <tr>\n",
       "      <th>...</th>\n",
       "      <td>...</td>\n",
       "      <td>...</td>\n",
       "      <td>...</td>\n",
       "      <td>...</td>\n",
       "    </tr>\n",
       "    <tr>\n",
       "      <th>386</th>\n",
       "      <td>Pening</td>\n",
       "      <td>0.30</td>\n",
       "      <td>Malay</td>\n",
       "      <td>Dizzy</td>\n",
       "    </tr>\n",
       "    <tr>\n",
       "      <th>387</th>\n",
       "      <td>Berkesan</td>\n",
       "      <td>0.80</td>\n",
       "      <td>Malay</td>\n",
       "      <td>Effective</td>\n",
       "    </tr>\n",
       "    <tr>\n",
       "      <th>388</th>\n",
       "      <td>Mengujakan</td>\n",
       "      <td>0.90</td>\n",
       "      <td>Malay</td>\n",
       "      <td>Exciting</td>\n",
       "    </tr>\n",
       "    <tr>\n",
       "      <th>389</th>\n",
       "      <td>Sederhana and teruk</td>\n",
       "      <td>0.40</td>\n",
       "      <td>Malay</td>\n",
       "      <td>Moderate and severe</td>\n",
       "    </tr>\n",
       "    <tr>\n",
       "      <th>390</th>\n",
       "      <td>Sempurna</td>\n",
       "      <td>0.90</td>\n",
       "      <td>Malay</td>\n",
       "      <td>Perfect</td>\n",
       "    </tr>\n",
       "  </tbody>\n",
       "</table>\n",
       "<p>391 rows × 4 columns</p>\n",
       "</div>"
      ],
      "text/plain": [
       "                                                Review  Score Language  \\\n",
       "0    Sayang sekali, pelakon tidak memberikan persem...   0.20    Malay   \n",
       "1    Jalan cerita yang kompleks dan penuh emosi. Su...   0.80    Malay   \n",
       "2    Pembuat filem berjaya memberikan pengalaman ya...   0.95    Malay   \n",
       "3    Adegan aksi yang terlalu banyak dan mengejutka...   0.60    Malay   \n",
       "4    Saya teruja sepanjang filem. Penceritaan yang ...   0.85    Malay   \n",
       "..                                                 ...    ...      ...   \n",
       "386                                             Pening   0.30    Malay   \n",
       "387                                           Berkesan   0.80    Malay   \n",
       "388                                         Mengujakan   0.90    Malay   \n",
       "389                                Sederhana and teruk   0.40    Malay   \n",
       "390                                           Sempurna   0.90    Malay   \n",
       "\n",
       "                                     Translated_Review  \n",
       "0    Unfortunately, the actor didn't give the best ...  \n",
       "1    Complex and emotional storyline. So entertaining!  \n",
       "2    The filmmaker succeeded in providing an unforg...  \n",
       "3    Excessive and shocking action scenes. Sometime...  \n",
       "4    I'm excited throughout the movie. Interesting ...  \n",
       "..                                                 ...  \n",
       "386                                              Dizzy  \n",
       "387                                          Effective  \n",
       "388                                           Exciting  \n",
       "389                                Moderate and severe  \n",
       "390                                            Perfect  \n",
       "\n",
       "[391 rows x 4 columns]"
      ]
     },
     "execution_count": 21,
     "metadata": {},
     "output_type": "execute_result"
    }
   ],
   "source": [
    "from googletrans import Translator\n",
    "\n",
    "# Filter Malay reviews\n",
    "malay_reviews = df[df['Language'] == 'Malay']['Review'].tolist()\n",
    "\n",
    "# Translate Malay reviews to English\n",
    "translator = Translator()\n",
    "translated_reviews = [translator.translate(text, src='ms', dest='en').text for text in malay_reviews]\n",
    "\n",
    "# Add translations to the dataframe\n",
    "df.loc[df['Language'] == 'Malay', 'Translated_Review'] = translated_reviews\n",
    "\n",
    "# Display the updated dataframe\n",
    "df"
   ]
  },
  {
   "cell_type": "code",
   "execution_count": 22,
   "id": "b6728985",
   "metadata": {},
   "outputs": [],
   "source": [
    "def prep_data(df, vocab_size, maxlen, test_size=0.2, val_size=0.1):\n",
    "    X = df[\"Review\"].astype(str).values\n",
    "    y = df[\"Score\"].values\n",
    "\n",
    "    # Split into train and test sets\n",
    "    X_train, X_test, y_train, y_test = train_test_split(\n",
    "        X, y, test_size=test_size, random_state=42\n",
    "    )\n",
    "\n",
    "    # Tokenize on the training sets only\n",
    "    tokenizer = Tokenizer(num_words=vocab_size, oov_token=\"<OOV>\")\n",
    "    tokenizer.fit_on_texts(X_train)\n",
    "\n",
    "    # Convert texts to sequences\n",
    "    X_train_seq = tokenizer.texts_to_sequences(X_train)\n",
    "    X_test_seq = tokenizer.texts_to_sequences(X_test)\n",
    "\n",
    "    # Pad the sequences\n",
    "    X_train_pad = pad_sequences(\n",
    "        X_train_seq, maxlen=maxlen, padding=\"post\", truncating=\"post\"\n",
    "    )\n",
    "    X_test_pad = pad_sequences(\n",
    "        X_test_seq, maxlen=maxlen, padding=\"post\", truncating=\"post\"\n",
    "    )\n",
    "\n",
    "    # Further split training into training and validation\n",
    "    X_train_pad, X_val_pad, y_train, y_val = train_test_split(\n",
    "        X_train_pad, y_train, test_size=val_size, random_state=42\n",
    "    )\n",
    "\n",
    "    return X_train_pad, X_val_pad, X_test_pad, y_train, y_val, y_test, tokenizer"
   ]
  },
  {
   "cell_type": "code",
   "execution_count": 23,
   "id": "700d2623",
   "metadata": {},
   "outputs": [],
   "source": [
    "# Prepare data for model training without augmentation\n",
    "X_train, X_val, X_test, y_train, y_val, y_test, tokenizer = prep_data(\n",
    "    df, vocab_size=1000, maxlen=30\n",
    ")"
   ]
  },
  {
   "cell_type": "markdown",
   "id": "0dffda68",
   "metadata": {},
   "source": [
    "### Functions to Build and Evaluate Models"
   ]
  },
  {
   "cell_type": "code",
   "execution_count": 24,
   "id": "1bb79ff1",
   "metadata": {},
   "outputs": [],
   "source": [
    "# Function to build a GRU model\n",
    "def build_gru_model(vocab_size, maxlen):\n",
    "    model = Sequential(\n",
    "        [\n",
    "            Embedding(input_dim=vocab_size, output_dim=64, input_length=maxlen),\n",
    "            GRU(units=64, return_sequences=True),\n",
    "            GRU(units=32),\n",
    "            Dropout(0.4),\n",
    "            Dense(1, activation=\"linear\"),\n",
    "        ]\n",
    "    )\n",
    "\n",
    "    model.compile(loss=\"mean_squared_error\", optimizer=\"adam\", metrics=[\"mae\"])\n",
    "\n",
    "    return model"
   ]
  },
  {
   "cell_type": "code",
   "execution_count": 25,
   "id": "b5aca5b5",
   "metadata": {},
   "outputs": [],
   "source": [
    "# Function to train the model and plot loss curves\n",
    "def train_model(model, X_train, y_train, X_val, y_val, model_name, epochs=50, batch_size=32):\n",
    "    # Show model architecture\n",
    "    print(f\"\\nModel Summary for {model_name}:\")\n",
    "    model.summary()\n",
    "\n",
    "    # EarlyStopping\n",
    "    early_stop = EarlyStopping(monitor='val_loss', patience=3, restore_best_weights=True)\n",
    "\n",
    "    # Train the model\n",
    "    history = model.fit(\n",
    "        X_train, y_train,\n",
    "        validation_data=(X_val, y_val),\n",
    "        epochs=epochs,\n",
    "        batch_size=batch_size,\n",
    "        callbacks=[early_stop],\n",
    "        verbose=1\n",
    "    )\n",
    "\n",
    "    # Loss Curve\n",
    "    plt.figure()\n",
    "    plt.plot(history.history['loss'], label='Train Loss')\n",
    "    plt.plot(history.history['val_loss'], label='Val Loss')\n",
    "    plt.title(f\"{model_name} MSE Loss\")\n",
    "    plt.xlabel(\"Epoch\")\n",
    "    plt.ylabel(\"Loss (MSE)\")\n",
    "    plt.legend()\n",
    "    plt.grid(True)\n",
    "    plt.show()"
   ]
  },
  {
   "cell_type": "code",
   "execution_count": 26,
   "id": "dea7386e",
   "metadata": {},
   "outputs": [],
   "source": [
    "# Function to evaluate the model, print evaluation metrics and plot predicted vs actual scores\n",
    "def evaluate_model(model, model_name, X_test, y_test):\n",
    "    # Predict\n",
    "    y_pred = model.predict(X_test, verbose=0).flatten()\n",
    "\n",
    "    # Evaluation Metrics\n",
    "    mae = mean_absolute_error(y_test, y_pred)\n",
    "    mse = mean_squared_error(y_test, y_pred)\n",
    "    r2 = r2_score(y_test, y_pred)\n",
    "\n",
    "    print(f\"\\n--- Evaluation Summary ({model_name}) ---\")\n",
    "    print(f\"Mean Absolute Error (MAE):  {mae * 100:.2f}%\")\n",
    "    print(f\"Mean Squared Error (MSE):   {mse * 100:.2f}%\")\n",
    "    print(f\"R-squared (R² Score):       {r2:.4f}\")\n",
    "\n",
    "    # Scatter plot of predicted vs true values\n",
    "    plt.figure()\n",
    "    plt.scatter(y_test, y_pred, alpha=0.6, color=\"mediumseagreen\")\n",
    "    # Best fit line\n",
    "    m, b = np.polyfit(y_test, y_pred, 1)\n",
    "    x_vals = np.linspace(min(y_test), max(y_test), 100)\n",
    "    plt.plot(x_vals, m * x_vals + b, linestyle=\"--\", color=\"red\", label=\"Best Fit Line\")\n",
    "    plt.title(f\"{model_name} Predicted vs Actual Scores\")\n",
    "    plt.xlabel(\"Actual Score\")\n",
    "    plt.ylabel(\"Predicted Score\")\n",
    "    plt.legend()\n",
    "    plt.grid(True)\n",
    "    plt.show()"
   ]
  },
  {
   "cell_type": "markdown",
   "id": "04cf0d58",
   "metadata": {},
   "source": [
    "### Model Training (Without Augmentation)"
   ]
  },
  {
   "cell_type": "code",
   "execution_count": 27,
   "id": "7643a8b7",
   "metadata": {},
   "outputs": [
    {
     "name": "stdout",
     "output_type": "stream",
     "text": [
      "Vocabulary Size (unique words): 918\n",
      "\n",
      "Review Length (word count) Stats:\n",
      "count    391.000000\n",
      "mean      13.109974\n",
      "std       13.650234\n",
      "min        1.000000\n",
      "25%        2.000000\n",
      "50%       10.000000\n",
      "75%       12.000000\n",
      "max       57.000000\n",
      "Name: Review, dtype: float64\n"
     ]
    }
   ],
   "source": [
    "# Define vocab size and max length\n",
    "# Vocabulary size\n",
    "tokenizer = Tokenizer()\n",
    "tokenizer.fit_on_texts(df[\"Review\"].astype(str))\n",
    "print(f\"Vocabulary Size (unique words): {len(tokenizer.word_index)}\")\n",
    "\n",
    "# Max length\n",
    "print(\"\\nReview Length (word count) Stats:\")\n",
    "print(df[\"Review\"].astype(str).apply(lambda x: len(x.split())).describe())"
   ]
  },
  {
   "cell_type": "code",
   "execution_count": 28,
   "id": "52335519",
   "metadata": {},
   "outputs": [
    {
     "name": "stdout",
     "output_type": "stream",
     "text": [
      "\n",
      "Model Summary for Base GRU Model:\n",
      "Model: \"sequential_1\"\n",
      "_________________________________________________________________\n",
      " Layer (type)                Output Shape              Param #   \n",
      "=================================================================\n",
      " embedding_1 (Embedding)     (None, 30, 64)            64000     \n",
      "                                                                 \n",
      " gru (GRU)                   (None, 30, 64)            24960     \n",
      "                                                                 \n",
      " gru_1 (GRU)                 (None, 32)                9408      \n",
      "                                                                 \n",
      " dropout_2 (Dropout)         (None, 32)                0         \n",
      "                                                                 \n",
      " dense_1 (Dense)             (None, 1)                 33        \n",
      "                                                                 \n",
      "=================================================================\n",
      "Total params: 98,401\n",
      "Trainable params: 98,401\n",
      "Non-trainable params: 0\n",
      "_________________________________________________________________\n",
      "Epoch 1/50\n",
      "9/9 [==============================] - 2s 53ms/step - loss: 0.3462 - mae: 0.5230 - val_loss: 0.1143 - val_mae: 0.2966\n",
      "Epoch 2/50\n",
      "9/9 [==============================] - 0s 11ms/step - loss: 0.1322 - mae: 0.2790 - val_loss: 0.0911 - val_mae: 0.2388\n",
      "Epoch 3/50\n",
      "9/9 [==============================] - 0s 10ms/step - loss: 0.0964 - mae: 0.2660 - val_loss: 0.1012 - val_mae: 0.2965\n",
      "Epoch 4/50\n",
      "9/9 [==============================] - 0s 13ms/step - loss: 0.0963 - mae: 0.2757 - val_loss: 0.0681 - val_mae: 0.2336\n",
      "Epoch 5/50\n",
      "9/9 [==============================] - 0s 11ms/step - loss: 0.0844 - mae: 0.2323 - val_loss: 0.0611 - val_mae: 0.2222\n",
      "Epoch 6/50\n",
      "9/9 [==============================] - 0s 11ms/step - loss: 0.0788 - mae: 0.2323 - val_loss: 0.0582 - val_mae: 0.2239\n",
      "Epoch 7/50\n",
      "9/9 [==============================] - 0s 11ms/step - loss: 0.0776 - mae: 0.2324 - val_loss: 0.0560 - val_mae: 0.2202\n",
      "Epoch 8/50\n",
      "9/9 [==============================] - 0s 11ms/step - loss: 0.0747 - mae: 0.2302 - val_loss: 0.0519 - val_mae: 0.2017\n",
      "Epoch 9/50\n",
      "9/9 [==============================] - 0s 12ms/step - loss: 0.0785 - mae: 0.2339 - val_loss: 0.0533 - val_mae: 0.2155\n",
      "Epoch 10/50\n",
      "9/9 [==============================] - 0s 10ms/step - loss: 0.0738 - mae: 0.2268 - val_loss: 0.0507 - val_mae: 0.2050\n",
      "Epoch 11/50\n",
      "9/9 [==============================] - 0s 10ms/step - loss: 0.0743 - mae: 0.2256 - val_loss: 0.0495 - val_mae: 0.1975\n",
      "Epoch 12/50\n",
      "9/9 [==============================] - 0s 11ms/step - loss: 0.0766 - mae: 0.2297 - val_loss: 0.0506 - val_mae: 0.2067\n",
      "Epoch 13/50\n",
      "9/9 [==============================] - 0s 10ms/step - loss: 0.0697 - mae: 0.2201 - val_loss: 0.0487 - val_mae: 0.1947\n",
      "Epoch 14/50\n",
      "9/9 [==============================] - 0s 11ms/step - loss: 0.0859 - mae: 0.2336 - val_loss: 0.0568 - val_mae: 0.2269\n",
      "Epoch 15/50\n",
      "9/9 [==============================] - 0s 9ms/step - loss: 0.0755 - mae: 0.2411 - val_loss: 0.0517 - val_mae: 0.2093\n",
      "Epoch 16/50\n",
      "9/9 [==============================] - 0s 11ms/step - loss: 0.0773 - mae: 0.2215 - val_loss: 0.0512 - val_mae: 0.2040\n"
     ]
    },
    {
     "data": {
      "image/png": "[encoded data removed]",
      "text/plain": [
       "<Figure size 640x480 with 1 Axes>"
      ]
     },
     "metadata": {},
     "output_type": "display_data"
    }
   ],
   "source": [
    "# Build and train the un-augmented GRU model\n",
    "gru_model = build_gru_model(vocab_size=1000, maxlen=30)\n",
    "\n",
    "train_model(\n",
    "    model=gru_model,\n",
    "    X_train=X_train,\n",
    "    y_train=y_train,\n",
    "    X_val=X_val,\n",
    "    y_val=y_val,\n",
    "    model_name=\"Base GRU Model\"\n",
    ")"
   ]
  },
  {
   "cell_type": "code",
   "execution_count": 29,
   "id": "a11f71de",
   "metadata": {},
   "outputs": [
    {
     "name": "stdout",
     "output_type": "stream",
     "text": [
      "\n",
      "--- Evaluation Summary (Base GRU Model) ---\n",
      "Mean Absolute Error (MAE):  23.17%\n",
      "Mean Squared Error (MSE):   7.31%\n",
      "R-squared (R² Score):       0.0001\n"
     ]
    },
    {
     "data": {
      "image/png": "[encoded data removed]",
      "text/plain": [
       "<Figure size 640x480 with 1 Axes>"
      ]
     },
     "metadata": {},
     "output_type": "display_data"
    }
   ],
   "source": [
    "# Evaluate the un-augmented GRU model\n",
    "evaluate_model(\n",
    "    model=gru_model,\n",
    "    model_name=\"Base GRU Model\",\n",
    "    X_test=X_test,\n",
    "    y_test=y_test\n",
    ")"
   ]
  },
  {
   "cell_type": "markdown",
   "id": "14929104",
   "metadata": {},
   "source": [
    "### Augment Training Data"
   ]
  },
  {
   "cell_type": "code",
   "execution_count": 30,
   "id": "dcbad95d",
   "metadata": {},
   "outputs": [],
   "source": [
    "# Define function to augment data with n-grams\n",
    "def augment_with_ngrams(df, tokenizer, maxlen, min_words=3):\n",
    "    X_augmented = []\n",
    "    y_augmented = []\n",
    "\n",
    "    for text, score in zip(df[\"Review\"], df[\"SentimentScore\"]):\n",
    "        token_list = tokenizer.texts_to_sequences([text])[0]\n",
    "\n",
    "        for i in range(min_words, len(token_list) + 1):\n",
    "            ngram = token_list[:i]\n",
    "            X_augmented.append(ngram)\n",
    "            y_augmented.append(score)\n",
    "\n",
    "    # Pad all sequences\n",
    "    X_pad = pad_sequences(X_augmented, maxlen=maxlen, padding=\"post\", truncating=\"post\")\n",
    "    y = np.array(y_augmented)\n",
    "\n",
    "    return X_pad, y"
   ]
  },
  {
   "cell_type": "code",
   "execution_count": 31,
   "id": "5e8da8b7",
   "metadata": {},
   "outputs": [
    {
     "name": "stdout",
     "output_type": "stream",
     "text": [
      "Augmentation with n-grams:\n",
      "Original training samples: 280\n",
      "After n-gram expansion:    2523\n",
      "Data increased by:         2243 samples (9.0x)\n"
     ]
    }
   ],
   "source": [
    "# Convert sequences to text\n",
    "df = pd.DataFrame({\n",
    "    'Review': tokenizer.sequences_to_texts(X_train),\n",
    "    'SentimentScore': y_train\n",
    "})\n",
    "\n",
    "# Augment the training data with n-grams\n",
    "X_train_aug, y_train_aug = augment_with_ngrams(\n",
    "    df, tokenizer=tokenizer, maxlen=30\n",
    ")\n",
    "\n",
    "# Display the size of the original and augmented training sets\n",
    "print(\"Augmentation with n-grams:\")\n",
    "print(f\"Original training samples: {len(y_train)}\")\n",
    "print(f\"After n-gram expansion:    {len(y_train_aug)}\")\n",
    "print(f\"Data increased by:         {len(y_train_aug) - len(y_train)} samples ({(len(y_train_aug) / len(y_train)):.1f}x)\"\n",
    ")"
   ]
  },
  {
   "cell_type": "code",
   "execution_count": 32,
   "id": "553b8560",
   "metadata": {},
   "outputs": [
    {
     "name": "stdout",
     "output_type": "stream",
     "text": [
      "\n",
      "Model Summary for Augmented GRU Model:\n",
      "Model: \"sequential_1\"\n",
      "_________________________________________________________________\n",
      " Layer (type)                Output Shape              Param #   \n",
      "=================================================================\n",
      " embedding_1 (Embedding)     (None, 30, 64)            64000     \n",
      "                                                                 \n",
      " gru (GRU)                   (None, 30, 64)            24960     \n",
      "                                                                 \n",
      " gru_1 (GRU)                 (None, 32)                9408      \n",
      "                                                                 \n",
      " dropout_2 (Dropout)         (None, 32)                0         \n",
      "                                                                 \n",
      " dense_1 (Dense)             (None, 1)                 33        \n",
      "                                                                 \n",
      "=================================================================\n",
      "Total params: 98,401\n",
      "Trainable params: 98,401\n",
      "Non-trainable params: 0\n",
      "_________________________________________________________________\n",
      "Epoch 1/50\n",
      "79/79 [==============================] - 1s 9ms/step - loss: 0.0658 - mae: 0.2095 - val_loss: 0.0468 - val_mae: 0.1906\n",
      "Epoch 2/50\n",
      "79/79 [==============================] - 1s 8ms/step - loss: 0.0414 - mae: 0.1625 - val_loss: 0.0279 - val_mae: 0.1330\n",
      "Epoch 3/50\n",
      "79/79 [==============================] - 1s 7ms/step - loss: 0.0218 - mae: 0.1149 - val_loss: 0.0329 - val_mae: 0.1424\n",
      "Epoch 4/50\n",
      "79/79 [==============================] - 1s 8ms/step - loss: 0.0177 - mae: 0.1034 - val_loss: 0.0263 - val_mae: 0.1194\n",
      "Epoch 5/50\n",
      "79/79 [==============================] - 1s 7ms/step - loss: 0.0159 - mae: 0.0979 - val_loss: 0.0252 - val_mae: 0.1176\n",
      "Epoch 6/50\n",
      "79/79 [==============================] - 1s 7ms/step - loss: 0.0147 - mae: 0.0937 - val_loss: 0.0246 - val_mae: 0.1192\n",
      "Epoch 7/50\n",
      "79/79 [==============================] - 1s 7ms/step - loss: 0.0138 - mae: 0.0903 - val_loss: 0.0245 - val_mae: 0.1105\n",
      "Epoch 8/50\n",
      "79/79 [==============================] - 1s 7ms/step - loss: 0.0127 - mae: 0.0858 - val_loss: 0.0322 - val_mae: 0.1317\n",
      "Epoch 9/50\n",
      "79/79 [==============================] - 1s 8ms/step - loss: 0.0122 - mae: 0.0851 - val_loss: 0.0321 - val_mae: 0.1489\n",
      "Epoch 10/50\n",
      "79/79 [==============================] - 1s 8ms/step - loss: 0.0128 - mae: 0.0867 - val_loss: 0.0239 - val_mae: 0.1126\n",
      "Epoch 11/50\n",
      "79/79 [==============================] - 1s 8ms/step - loss: 0.0113 - mae: 0.0817 - val_loss: 0.0256 - val_mae: 0.1110\n",
      "Epoch 12/50\n",
      "79/79 [==============================] - 1s 8ms/step - loss: 0.0106 - mae: 0.0782 - val_loss: 0.0295 - val_mae: 0.1256\n",
      "Epoch 13/50\n",
      "79/79 [==============================] - 1s 7ms/step - loss: 0.0099 - mae: 0.0754 - val_loss: 0.0320 - val_mae: 0.1364\n"
     ]
    },
    {
     "data": {
      "image/png": "[encoded data removed]",
      "text/plain": [
       "<Figure size 640x480 with 1 Axes>"
      ]
     },
     "metadata": {},
     "output_type": "display_data"
    }
   ],
   "source": [
    "# Train the GRU model with augmented data\n",
    "train_model(\n",
    "    model=gru_model,\n",
    "    X_train=X_train_aug,\n",
    "    y_train=y_train_aug,\n",
    "    X_val=X_val,\n",
    "    y_val=y_val,\n",
    "    model_name=\"Augmented GRU Model\",\n",
    ")"
   ]
  },
  {
   "cell_type": "code",
   "execution_count": 33,
   "id": "73627538",
   "metadata": {},
   "outputs": [
    {
     "name": "stdout",
     "output_type": "stream",
     "text": [
      "\n",
      "--- Evaluation Summary (Augmented GRU Model) ---\n",
      "Mean Absolute Error (MAE):  10.01%\n",
      "Mean Squared Error (MSE):   2.39%\n",
      "R-squared (R² Score):       0.6738\n"
     ]
    },
    {
     "data": {
      "image/png": "[encoded data removed]",
      "text/plain": [
       "<Figure size 640x480 with 1 Axes>"
      ]
     },
     "metadata": {},
     "output_type": "display_data"
    }
   ],
   "source": [
    "# Evaluate the augmented model\n",
    "evaluate_model(\n",
    "  model=gru_model, \n",
    "  model_name=\"Augmented GRU Model\", \n",
    "  X_test=X_test, \n",
    "  y_test=y_test\n",
    ")"
   ]
  },
  {
   "cell_type": "markdown",
   "id": "d5589ea2",
   "metadata": {},
   "source": [
    "### Model using Random Search for Hyperparameter Tuning"
   ]
  },
  {
   "cell_type": "code",
   "execution_count": 34,
   "id": "ffe93fc1",
   "metadata": {},
   "outputs": [],
   "source": [
    "# Define vocab_size and maxlen for this hyperparameter tuning\n",
    "vocab_size = len(vocab) + 2  # +2 for <PAD> and <UNK>\n",
    "maxlen = 30\n",
    "\n",
    "# Use keras-tuner for hyperparameter tuning\n",
    "def build_model(hp):\n",
    "    l2_reg = hp.Choice(\"l2_reg\", [1e-5, 1e-4])\n",
    "    learning_rate = hp.Choice(\"learning_rate\", [1e-5, 5e-5, 1e-4, 5e-4, 1e-3])\n",
    "\n",
    "    model = Sequential()\n",
    "    model.add(\n",
    "        Embedding(\n",
    "            input_dim=vocab_size,\n",
    "            output_dim=hp.Choice(\"embedding_dim\", [16, 32, 48]),\n",
    "            input_length=maxlen,\n",
    "        )\n",
    "    )\n",
    "    model.add(\n",
    "        GRU(\n",
    "            units=hp.Int(\"gru_units\", 96, 200, step=32),\n",
    "            kernel_regularizer=regularizers.l2(l2_reg),\n",
    "        )\n",
    "    )\n",
    "    model.add(Dropout(hp.Float(\"dropout_rate\", 0.2, 0.5, step=0.05)))\n",
    "    model.add(Dense(1, activation=\"linear\"))\n",
    "\n",
    "    optimizer = Adam(learning_rate=learning_rate)\n",
    "    model.compile(optimizer=optimizer, loss=\"mean_squared_error\", metrics=[\"mae\"])\n",
    "\n",
    "    return model"
   ]
  },
  {
   "cell_type": "code",
   "execution_count": 35,
   "id": "d5e5c0cd",
   "metadata": {},
   "outputs": [
    {
     "name": "stdout",
     "output_type": "stream",
     "text": [
      "Reloading Tuner from kt_dir\\gru_hyperparameter_tuning\\tuner0.json\n",
      "Tuner reloaded. Showing best trial hyperparameters so far:\n",
      "{'l2_reg': 0.0001, 'learning_rate': 0.001, 'embedding_dim': 16, 'gru_units': 96, 'dropout_rate': 0.35000000000000003}\n"
     ]
    }
   ],
   "source": [
    "# Create a RandomSearch tuner\n",
    "tuner = RandomSearch(\n",
    "    build_model,\n",
    "    objective=\"val_mae\",\n",
    "    max_trials=200,\n",
    "    executions_per_trial=2,\n",
    "    directory=\"kt_dir\",\n",
    "    project_name=\"gru_hyperparameter_tuning\"\n",
    ")\n",
    "\n",
    "# Load existing tuner state if available, or initialize a new tuner\n",
    "if tuner.oracle.trials:\n",
    "    print(\"Tuner reloaded. Showing best trial hyperparameters so far:\")\n",
    "    best_trials = tuner.oracle.get_best_trials(num_trials=1)\n",
    "    for trial in best_trials:\n",
    "        print(trial.hyperparameters.values)\n",
    "else:\n",
    "    print(\"Tuner initialized fresh.\")"
   ]
  },
  {
   "cell_type": "code",
   "execution_count": 36,
   "id": "f2ec3bec",
   "metadata": {},
   "outputs": [],
   "source": [
    "# Run the hyperparameter search\n",
    "tuner.search(\n",
    "    X_train_aug,\n",
    "    y_train_aug,\n",
    "    epochs=50,\n",
    "    batch_size=32,\n",
    "    validation_data=(X_val, y_val),\n",
    "    callbacks=[EarlyStopping(monitor='val_mae', patience=3, restore_best_weights=True)]\n",
    ")\n",
    "\n",
    "# Get the best model\n",
    "best_model = tuner.get_best_models(num_models=1)[0]"
   ]
  },
  {
   "cell_type": "code",
   "execution_count": 37,
   "id": "489b516e",
   "metadata": {},
   "outputs": [
    {
     "name": "stdout",
     "output_type": "stream",
     "text": [
      "3/3 [==============================] - 0s 3ms/step - loss: 0.0184 - mae: 0.0891\n",
      "Test MAE: 0.0891\n"
     ]
    }
   ],
   "source": [
    "# Evaluate on test data\n",
    "test_loss, test_mae = best_model.evaluate(X_test, y_test)\n",
    "print(f\"Test MAE: {test_mae:.4f}\")"
   ]
  },
  {
   "cell_type": "code",
   "execution_count": 38,
   "id": "40d98c5a",
   "metadata": {},
   "outputs": [
    {
     "name": "stdout",
     "output_type": "stream",
     "text": [
      "\n",
      "Model Summary for Augmented GRU Model (Tuned):\n",
      "Model: \"sequential\"\n",
      "_________________________________________________________________\n",
      " Layer (type)                Output Shape              Param #   \n",
      "=================================================================\n",
      " embedding (Embedding)       (None, 30, 16)            16032     \n",
      "                                                                 \n",
      " gru (GRU)                   (None, 96)                32832     \n",
      "                                                                 \n",
      " dropout (Dropout)           (None, 96)                0         \n",
      "                                                                 \n",
      " dense (Dense)               (None, 1)                 97        \n",
      "                                                                 \n",
      "=================================================================\n",
      "Total params: 48,961\n",
      "Trainable params: 48,961\n",
      "Non-trainable params: 0\n",
      "_________________________________________________________________\n",
      "Epoch 1/50\n",
      "79/79 [==============================] - 1s 6ms/step - loss: 0.0081 - mae: 0.0639 - val_loss: 0.0192 - val_mae: 0.0921\n",
      "Epoch 2/50\n",
      "79/79 [==============================] - 0s 5ms/step - loss: 0.0078 - mae: 0.0629 - val_loss: 0.0175 - val_mae: 0.0848\n",
      "Epoch 3/50\n",
      "79/79 [==============================] - 0s 5ms/step - loss: 0.0072 - mae: 0.0605 - val_loss: 0.0174 - val_mae: 0.0851\n",
      "Epoch 4/50\n",
      "79/79 [==============================] - 0s 5ms/step - loss: 0.0068 - mae: 0.0584 - val_loss: 0.0176 - val_mae: 0.0782\n",
      "Epoch 5/50\n",
      "79/79 [==============================] - 0s 5ms/step - loss: 0.0070 - mae: 0.0588 - val_loss: 0.0181 - val_mae: 0.0828\n",
      "Epoch 6/50\n",
      "79/79 [==============================] - 0s 5ms/step - loss: 0.0063 - mae: 0.0554 - val_loss: 0.0195 - val_mae: 0.0955\n"
     ]
    },
    {
     "data": {
      "image/png": "[encoded data removed]",
      "text/plain": [
       "<Figure size 640x480 with 1 Axes>"
      ]
     },
     "metadata": {},
     "output_type": "display_data"
    }
   ],
   "source": [
    "# Train tuned model on augmented data\n",
    "train_model(\n",
    "    model=best_model,\n",
    "    X_train=X_train_aug,\n",
    "    y_train=y_train_aug,\n",
    "    X_val=X_val,\n",
    "    y_val=y_val,\n",
    "    model_name=\"Augmented GRU Model (Tuned)\",\n",
    ")"
   ]
  },
  {
   "cell_type": "code",
   "execution_count": 39,
   "id": "876aa935",
   "metadata": {},
   "outputs": [
    {
     "name": "stdout",
     "output_type": "stream",
     "text": [
      "\n",
      "--- Evaluation Summary (Augmented GRU Model (Tuned)) ---\n",
      "Mean Absolute Error (MAE):  9.81%\n",
      "Mean Squared Error (MSE):   2.13%\n",
      "R-squared (R² Score):       0.7084\n"
     ]
    },
    {
     "data": {
      "image/png": "[encoded data removed]",
      "text/plain": [
       "<Figure size 640x480 with 1 Axes>"
      ]
     },
     "metadata": {},
     "output_type": "display_data"
    }
   ],
   "source": [
    "# Evaluate tuned model on augmented test data\n",
    "evaluate_model(\n",
    "    model=best_model,\n",
    "    model_name=\"Augmented GRU Model (Tuned)\", \n",
    "    X_test=X_test, \n",
    "    y_test=y_test\n",
    ")"
   ]
  },
  {
   "cell_type": "code",
   "execution_count": 40,
   "id": "df86bfe9",
   "metadata": {},
   "outputs": [
    {
     "name": "stdout",
     "output_type": "stream",
     "text": [
      "\n",
      "Model Summary for Un-augmented GRU Model (Tuned):\n",
      "Model: \"sequential\"\n",
      "_________________________________________________________________\n",
      " Layer (type)                Output Shape              Param #   \n",
      "=================================================================\n",
      " embedding (Embedding)       (None, 30, 16)            16032     \n",
      "                                                                 \n",
      " gru (GRU)                   (None, 96)                32832     \n",
      "                                                                 \n",
      " dropout (Dropout)           (None, 96)                0         \n",
      "                                                                 \n",
      " dense (Dense)               (None, 1)                 97        \n",
      "                                                                 \n",
      "=================================================================\n",
      "Total params: 48,961\n",
      "Trainable params: 48,961\n",
      "Non-trainable params: 0\n",
      "_________________________________________________________________\n",
      "Epoch 1/50\n",
      "9/9 [==============================] - 0s 12ms/step - loss: 0.0191 - mae: 0.0900 - val_loss: 0.0183 - val_mae: 0.0812\n",
      "Epoch 2/50\n",
      "9/9 [==============================] - 0s 9ms/step - loss: 0.0184 - mae: 0.0865 - val_loss: 0.0143 - val_mae: 0.0738\n",
      "Epoch 3/50\n",
      "9/9 [==============================] - 0s 8ms/step - loss: 0.0164 - mae: 0.0864 - val_loss: 0.0165 - val_mae: 0.0921\n",
      "Epoch 4/50\n",
      "9/9 [==============================] - 0s 8ms/step - loss: 0.0126 - mae: 0.0768 - val_loss: 0.0181 - val_mae: 0.0956\n",
      "Epoch 5/50\n",
      "9/9 [==============================] - 0s 8ms/step - loss: 0.0107 - mae: 0.0705 - val_loss: 0.0110 - val_mae: 0.0645\n",
      "Epoch 6/50\n",
      "9/9 [==============================] - 0s 7ms/step - loss: 0.0096 - mae: 0.0663 - val_loss: 0.0104 - val_mae: 0.0635\n",
      "Epoch 7/50\n",
      "9/9 [==============================] - 0s 8ms/step - loss: 0.0091 - mae: 0.0680 - val_loss: 0.0154 - val_mae: 0.0782\n",
      "Epoch 8/50\n",
      "9/9 [==============================] - 0s 9ms/step - loss: 0.0080 - mae: 0.0644 - val_loss: 0.0143 - val_mae: 0.0705\n",
      "Epoch 9/50\n",
      "9/9 [==============================] - 0s 12ms/step - loss: 0.0070 - mae: 0.0584 - val_loss: 0.0103 - val_mae: 0.0609\n",
      "Epoch 10/50\n",
      "9/9 [==============================] - 0s 8ms/step - loss: 0.0065 - mae: 0.0576 - val_loss: 0.0093 - val_mae: 0.0576\n",
      "Epoch 11/50\n",
      "9/9 [==============================] - 0s 8ms/step - loss: 0.0063 - mae: 0.0591 - val_loss: 0.0154 - val_mae: 0.0708\n",
      "Epoch 12/50\n",
      "9/9 [==============================] - 0s 7ms/step - loss: 0.0062 - mae: 0.0579 - val_loss: 0.0123 - val_mae: 0.0785\n",
      "Epoch 13/50\n",
      "9/9 [==============================] - 0s 9ms/step - loss: 0.0060 - mae: 0.0552 - val_loss: 0.0122 - val_mae: 0.0642\n"
     ]
    },
    {
     "data": {
      "image/png": "[encoded data removed]",
      "text/plain": [
       "<Figure size 640x480 with 1 Axes>"
      ]
     },
     "metadata": {},
     "output_type": "display_data"
    }
   ],
   "source": [
    "# Train tuned model on un-augmented data\n",
    "train_model(\n",
    "    model=best_model,\n",
    "    X_train=X_train,\n",
    "    y_train=y_train,\n",
    "    X_val=X_val,\n",
    "    y_val=y_val,\n",
    "    model_name=\"Un-augmented GRU Model (Tuned)\",\n",
    ")"
   ]
  },
  {
   "cell_type": "code",
   "execution_count": 41,
   "id": "173b925e",
   "metadata": {},
   "outputs": [
    {
     "name": "stdout",
     "output_type": "stream",
     "text": [
      "\n",
      "--- Evaluation Summary (Un-augmented GRU Model (Tuned)) ---\n",
      "Mean Absolute Error (MAE):  8.15%\n",
      "Mean Squared Error (MSE):   1.56%\n",
      "R-squared (R² Score):       0.7874\n"
     ]
    },
    {
     "data": {
      "image/png": "[encoded data removed]",
      "text/plain": [
       "<Figure size 640x480 with 1 Axes>"
      ]
     },
     "metadata": {},
     "output_type": "display_data"
    }
   ],
   "source": [
    "# Evaluate tuned model on un-augmented test data\n",
    "evaluate_model(\n",
    "    model=best_model,\n",
    "    model_name=\"Un-augmented GRU Model (Tuned)\",\n",
    "    X_test=X_test,\n",
    "    y_test=y_test,\n",
    ")"
   ]
  },
  {
   "cell_type": "code",
   "execution_count": 42,
   "id": "1747993f",
   "metadata": {},
   "outputs": [],
   "source": [
    "best_model.save('best_GRU_model.h5')"
   ]
  }
 ],
 "metadata": {
  "kernelspec": {
   "display_name": "gpu_env",
   "language": "python",
   "name": "python3"
  },
  "language_info": {
   "codemirror_mode": {
    "name": "ipython",
    "version": 3
   },
   "file_extension": ".py",
   "mimetype": "text/x-python",
   "name": "python",
   "nbconvert_exporter": "python",
   "pygments_lexer": "ipython3",
   "version": "3.8.20"
  }
 },
 "nbformat": 4,
 "nbformat_minor": 5
}
